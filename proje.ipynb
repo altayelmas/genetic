{
 "cells": [
  {
   "cell_type": "code",
   "execution_count": 1,
   "metadata": {},
   "outputs": [
    {
     "data": {
      "text/html": [
       "<div>\n",
       "<style scoped>\n",
       "    .dataframe tbody tr th:only-of-type {\n",
       "        vertical-align: middle;\n",
       "    }\n",
       "\n",
       "    .dataframe tbody tr th {\n",
       "        vertical-align: top;\n",
       "    }\n",
       "\n",
       "    .dataframe thead th {\n",
       "        text-align: right;\n",
       "    }\n",
       "</style>\n",
       "<table border=\"1\" class=\"dataframe\">\n",
       "  <thead>\n",
       "    <tr style=\"text-align: right;\">\n",
       "      <th></th>\n",
       "      <th>Name</th>\n",
       "      <th>Calories</th>\n",
       "      <th>Protein (g)</th>\n",
       "    </tr>\n",
       "  </thead>\n",
       "  <tbody>\n",
       "    <tr>\n",
       "      <th>0</th>\n",
       "      <td>Pillsbury Golden Layer Buttermilk Biscuits Art...</td>\n",
       "      <td>307.0</td>\n",
       "      <td>5.88</td>\n",
       "    </tr>\n",
       "    <tr>\n",
       "      <th>1</th>\n",
       "      <td>Pillsbury Cinnamon Rolls With Icing Refrigerat...</td>\n",
       "      <td>330.0</td>\n",
       "      <td>4.34</td>\n",
       "    </tr>\n",
       "    <tr>\n",
       "      <th>2</th>\n",
       "      <td>Kraft Foods Shake N Bake Original Recipe Coati...</td>\n",
       "      <td>377.0</td>\n",
       "      <td>6.10</td>\n",
       "    </tr>\n",
       "    <tr>\n",
       "      <th>3</th>\n",
       "      <td>George Weston Bakeries Thomas English Muffins</td>\n",
       "      <td>232.0</td>\n",
       "      <td>8.00</td>\n",
       "    </tr>\n",
       "    <tr>\n",
       "      <th>4</th>\n",
       "      <td>Waffles Buttermilk Frozen Ready-To-Heat</td>\n",
       "      <td>273.0</td>\n",
       "      <td>6.58</td>\n",
       "    </tr>\n",
       "  </tbody>\n",
       "</table>\n",
       "</div>"
      ],
      "text/plain": [
       "                                                Name  Calories  Protein (g)\n",
       "0  Pillsbury Golden Layer Buttermilk Biscuits Art...     307.0         5.88\n",
       "1  Pillsbury Cinnamon Rolls With Icing Refrigerat...     330.0         4.34\n",
       "2  Kraft Foods Shake N Bake Original Recipe Coati...     377.0         6.10\n",
       "3      George Weston Bakeries Thomas English Muffins     232.0         8.00\n",
       "4            Waffles Buttermilk Frozen Ready-To-Heat     273.0         6.58"
      ]
     },
     "execution_count": 1,
     "metadata": {},
     "output_type": "execute_result"
    }
   ],
   "source": [
    "import pandas as pd\n",
    "\n",
    "# Read data\n",
    "df = pd.read_excel(\"MyFoodData.xlsx\")\n",
    "\n",
    "# Drops unrelevant columns\n",
    "df = df.filter(items = [\"Name\", \"Calories\", \"Protein (g)\"])\n",
    "df.head()"
   ]
  },
  {
   "cell_type": "code",
   "execution_count": 137,
   "metadata": {},
   "outputs": [],
   "source": [
    "def calculateFitness(chromosome: list, maxWeight: int, negative: bool):\n",
    "    totalValue = 0\n",
    "    totalWeight = 0\n",
    "\n",
    "    for i in range(len(chromosome)):\n",
    "        if chromosome[i] == 1:\n",
    "            value = df.iloc[i]['Protein (g)']\n",
    "            totalValue += value\n",
    "            \n",
    "            weight = df.iloc[i]['Calories']\n",
    "            totalWeight += weight\n",
    "    \n",
    "    proteinWeight = 10\n",
    "    # Penalty if the weight exceeds maxWeight\n",
    "    if totalWeight > maxWeight:\n",
    "        penalty = (totalWeight - maxWeight) * 0.8\n",
    "        fitness = proteinWeight * totalValue - penalty\n",
    "    # No penalty\n",
    "    else:\n",
    "        fitness = proteinWeight * totalValue\n",
    "\n",
    "    final_fitness = fitness if negative else max(1, fitness)\n",
    "    return final_fitness"
   ]
  },
  {
   "cell_type": "code",
   "execution_count": 3,
   "metadata": {},
   "outputs": [],
   "source": [
    "import random \n",
    "\n",
    "def initializePopulation(populationSize: int, chromosomeSize: int):\n",
    "    population = []\n",
    "\n",
    "    # Randomly generate populationSize amount of chromosomes with chromosomeSize size\n",
    "    for i in range(populationSize):\n",
    "        member = [random.randint(0, 1) for i in range(chromosomeSize)]\n",
    "        population.append(member)\n",
    "       \n",
    "    return population"
   ]
  },
  {
   "cell_type": "code",
   "execution_count": 4,
   "metadata": {},
   "outputs": [
    {
     "name": "stdout",
     "output_type": "stream",
     "text": [
      "[0, 1, 0, 0, 0], Fitness 6688.68\n",
      "[1, 1, 1, 1, 0], Fitness 3064.64\n",
      "[0, 0, 1, 0, 0], Fitness 6504.2\n",
      "[1, 1, 1, 0, 1], Fitness 2897.8\n",
      "[0, 0, 0, 1, 0], Fitness 7088.0\n",
      "\n",
      "[0, 0, 0, 1, 0], Fitness 7088.0\n",
      "[0, 1, 0, 0, 0], Fitness 6688.68\n",
      "[0, 0, 1, 0, 0], Fitness 6504.2\n",
      "[1, 1, 1, 1, 0], Fitness 3064.64\n",
      "[1, 1, 1, 0, 1], Fitness 2897.8\n"
     ]
    }
   ],
   "source": [
    "def sortPopulation(population: list[list], maxWeight: int, negative: bool):\n",
    "    return sorted(population, key=lambda individual: calculateFitness(individual, maxWeight, negative), reverse=True)\n",
    "\n",
    "population = initializePopulation(5, 5)\n",
    "for i in population:\n",
    "    print(f\"{i}, Fitness {calculateFitness(i, 2000, False)}\")\n",
    "print()\n",
    "population = sortPopulation(population, 2000, False)\n",
    "for i in population:\n",
    "    print(f\"{i}, Fitness {calculateFitness(i, 2000, False)}\")"
   ]
  },
  {
   "cell_type": "code",
   "execution_count": null,
   "metadata": {},
   "outputs": [],
   "source": [
    "def rouletteWheelSelection(population: list[list], maxWeight: int):\n",
    "    total_fitness = 0\n",
    "    fitnesses = []\n",
    "\n",
    "    # Add all fitnesses\n",
    "    for i in population:\n",
    "        # Negative fitness is not allowed\n",
    "        fitness = calculateFitness(i, maxWeight, False)\n",
    "        fitnesses.append(fitness)\n",
    "        total_fitness += fitness\n",
    "\n",
    "    # An individual in the population have fitness / (sum of all fitnesses) chance to be selected in the Roulette Wheel Selection\n",
    "    prob_sum = 0\n",
    "    # Random float as roulette\n",
    "    roulette = random.uniform(0, total_fitness)\n",
    "    for i in range(len(population)):\n",
    "        # If the prob_sum + fitness of the individual exceedes the roulette value, the roulette is in that probability area, so the individual is selected\n",
    "        # Example:\n",
    "        # If we have 5 individuals with fitness values 5, 10, 15, 6, 3 and roulette as 21, the individual with fitness value 15 should be selected.\n",
    "        # In the first iteration of the loop prob_sum would be 5, in the second iteration 15 and in the third iteration it would be 30, exceeding the roulette value\n",
    "        # Third individual from the population would be selected according to this algorithm\n",
    "        prob_sum += fitnesses[i]\n",
    "        if prob_sum > roulette:\n",
    "            return population[i]\n",
    "\n",
    "        "
   ]
  },
  {
   "cell_type": "code",
   "execution_count": 6,
   "metadata": {},
   "outputs": [],
   "source": [
    "def tournamentSelection(population: list[list], tournamentSize: int, maxWeight: int):\n",
    "    # tournamentSize amount of individuals are selected for the tournament\n",
    "    randomIndividuals = random.sample(range(0, len(population)), tournamentSize)\n",
    "    bestFitness = -1\n",
    "    bestIndividual = []\n",
    "    #print(randomIndividuals)\n",
    "    \n",
    "    for i in randomIndividuals:\n",
    "        # Individual with best fitness wins the tournament\n",
    "        # This individual is selected\n",
    "        fitness = calculateFitness(population[i], maxWeight, False)\n",
    "        #print(f\"Individual {i}, fitness {fitness}\")\n",
    "        if fitness > bestFitness:\n",
    "            bestFitness = fitness\n",
    "            bestIndividual = i\n",
    "    return population[bestIndividual]\n"
   ]
  },
  {
   "cell_type": "code",
   "execution_count": 7,
   "metadata": {},
   "outputs": [
    {
     "name": "stdout",
     "output_type": "stream",
     "text": [
      "[0, 0, 0, 0, 0]\n"
     ]
    }
   ],
   "source": [
    "population = initializePopulation(10, 5)\n",
    "\n",
    "bestIndividual = tournamentSelection(population, 4, 2500)\n",
    "print(bestIndividual)"
   ]
  },
  {
   "cell_type": "code",
   "execution_count": 8,
   "metadata": {},
   "outputs": [
    {
     "name": "stdout",
     "output_type": "stream",
     "text": [
      "[0, 0, 0, 1, 0] 9088.0\n",
      "[1, 0, 0, 1, 1] 6792.92\n",
      "[1, 1, 1, 0, 1] 4897.8\n",
      "[1, 0, 0, 1, 1] 6792.92\n",
      "[0, 0, 1, 1, 0] 7592.2\n",
      "[1, 0, 0, 1, 0] 7871.76\n",
      "[0, 1, 1, 0, 1] 6114.04\n",
      "[0, 1, 0, 0, 0] 8688.68\n",
      "[1, 1, 0, 0, 1] 6393.6\n",
      "[1, 0, 1, 1, 1] 5297.12\n",
      "\n",
      "[1, 0, 1, 1, 1]\n"
     ]
    }
   ],
   "source": [
    "population = initializePopulation(10, 5)\n",
    "for i in range(len((population))):\n",
    "    print(population[i], calculateFitness(population[i], 2500, False))\n",
    "\n",
    "print()\n",
    "selected = rouletteWheelSelection(population, 2500)\n",
    "print(selected)"
   ]
  },
  {
   "cell_type": "code",
   "execution_count": 9,
   "metadata": {},
   "outputs": [],
   "source": [
    "import random\n",
    "\n",
    "def singlePointCrossover(firstParent: list, secondParent: list):\n",
    "\n",
    "   # Selects a random crossover point\n",
    "   crossOverPoint = random.randint(1, len(firstParent) - 1)\n",
    "\n",
    "   # Selects the crossover parts from parents (From random point to end of the chromosome)\n",
    "   crossOverPart1 = firstParent[crossOverPoint: len(firstParent)]\n",
    "   crossOverPart2 = secondParent[crossOverPoint: len(secondParent)]\n",
    "\n",
    "   firstOffspring = firstParent\n",
    "   secondOffspring = secondParent\n",
    "\n",
    "   # Swaps the crossover parts between parents\n",
    "   firstOffspring[crossOverPoint: len(firstParent)] = crossOverPart2\n",
    "   secondOffspring[crossOverPoint: len(secondParent)] = crossOverPart1\n",
    "\n",
    "   return [firstOffspring, secondOffspring]"
   ]
  },
  {
   "cell_type": "code",
   "execution_count": 10,
   "metadata": {},
   "outputs": [
    {
     "name": "stdout",
     "output_type": "stream",
     "text": [
      "[[0, 1, 0, 0, 0, 1], [1, 0, 1, 1, 0, 1]]\n"
     ]
    }
   ],
   "source": [
    "firstParent = [0, 0 , 1, 1, 0, 1]\n",
    "secondParent = [1, 1, 0, 0, 0, 1]\n",
    "\n",
    "offsprings = singlePointCrossover(firstParent, secondParent)\n",
    "print(offsprings)"
   ]
  },
  {
   "cell_type": "code",
   "execution_count": 11,
   "metadata": {},
   "outputs": [],
   "source": [
    "def multiplePointCrossover(firstParent: list, secondParent: list):\n",
    "    # Selects two random crossover points\n",
    "    firstCrossOverPoint = random.randint(1, len(firstParent) - 1)\n",
    "    secondCrossOverPoint = random.randint(1, len(secondParent) - 1)\n",
    "\n",
    "    # Change the crossover point if the points are same\n",
    "    while (firstCrossOverPoint == secondCrossOverPoint):\n",
    "        secondCrossOverPoint = random.randint(1, len(firstParent) - 1)\n",
    "    \n",
    "    # If the first crossover point is at the right of the second crossover point swap the points\n",
    "    if (firstCrossOverPoint > secondCrossOverPoint):\n",
    "        firstCrossOverPoint, secondCrossOverPoint = secondCrossOverPoint, firstCrossOverPoint\n",
    "    \n",
    "    # Select the crossover parts from point1 to point2\n",
    "    crossOverPart1 = firstParent[firstCrossOverPoint: secondCrossOverPoint + 1]\n",
    "    crossOverPart2 = secondParent[firstCrossOverPoint: secondCrossOverPoint + 1]\n",
    "\n",
    "    firstOffspring = firstParent\n",
    "    secondOffspring = secondParent\n",
    "\n",
    "    # Swap the crossover parts between parents\n",
    "    firstOffspring[firstCrossOverPoint: secondCrossOverPoint + 1] = crossOverPart2\n",
    "    secondOffspring[firstCrossOverPoint: secondCrossOverPoint + 1] = crossOverPart1\n",
    "\n",
    "    return [firstOffspring, secondOffspring]\n",
    "\n",
    "    \n"
   ]
  },
  {
   "cell_type": "code",
   "execution_count": 12,
   "metadata": {},
   "outputs": [
    {
     "name": "stdout",
     "output_type": "stream",
     "text": [
      "[[0, 0, 0, 0, 0, 1], [1, 1, 1, 1, 0, 1]]\n"
     ]
    }
   ],
   "source": [
    "firstParent = [0, 0 , 1, 1, 0, 1]\n",
    "secondParent = [1, 1, 0, 0, 0, 1]\n",
    "\n",
    "offsprings = multiplePointCrossover(firstParent, secondParent)\n",
    "print(offsprings)"
   ]
  },
  {
   "cell_type": "code",
   "execution_count": 13,
   "metadata": {},
   "outputs": [],
   "source": [
    "def uniformCrossover(firstParent: list, secondParent: list, maxWeight: int):\n",
    "    firstFitness = calculateFitness(firstParent, maxWeight, False)\n",
    "    secondFitness = calculateFitness(secondParent, maxWeight, False)\n",
    "\n",
    "    # Probability in the uniform crossover is fp_1 / (fp_1 + fp_2), where fp_1 is the fitness of the first parent and fp_2 is the fitness of the second parent\n",
    "    probability = firstFitness / (firstFitness + secondFitness)\n",
    "\n",
    "    firstOffspring = []\n",
    "    secondOffspring = []\n",
    "    i = 0\n",
    "\n",
    "    while (len(firstOffspring) != len(firstParent)):\n",
    "        randomProb = random.random()\n",
    "        # First chromosome have the chance fp_1 / (fp_1 + fp_2) to the get the gene from first parent.\n",
    "        # If the probability is higher than the random value, first offspring gets the gene from first parent\n",
    "        # This repeats for all of the genes (length of the chromosome)\n",
    "        if (randomProb < probability):\n",
    "            firstOffspring.append(firstParent[i])\n",
    "            secondOffspring.append(secondParent[i])\n",
    "        else:\n",
    "            firstOffspring.append(secondParent[i])\n",
    "            secondOffspring.append(firstParent[i])\n",
    "        i += 1\n",
    "\n",
    "    return [firstOffspring, secondOffspring]\n",
    "\n"
   ]
  },
  {
   "cell_type": "code",
   "execution_count": 14,
   "metadata": {},
   "outputs": [
    {
     "name": "stdout",
     "output_type": "stream",
     "text": [
      "[[0, 1, 0, 1, 0, 1], [1, 0, 1, 0, 0, 1]]\n"
     ]
    }
   ],
   "source": [
    "firstParent = [0, 0 , 1, 1, 0, 1]\n",
    "secondParent = [1, 1, 0, 0, 0, 1]\n",
    "\n",
    "offsprings = uniformCrossover(firstParent, secondParent, 1000)\n",
    "print(offsprings)"
   ]
  },
  {
   "cell_type": "code",
   "execution_count": 15,
   "metadata": {},
   "outputs": [],
   "source": [
    "def mutation(chromosome: list, rate: int):\n",
    "    mutationsRate = 1 / rate\n",
    "    for i in range(len(chromosome)):\n",
    "        # random.random() generates a float between 0 and 1\n",
    "        # If this number is less than or equal to mutation rate there is a bit flip in that gene (mutation occurs)\n",
    "        if random.random() <= mutationsRate:\n",
    "            chromosome[i] = 1 - chromosome[i]\n",
    "    return chromosome"
   ]
  },
  {
   "cell_type": "code",
   "execution_count": 16,
   "metadata": {},
   "outputs": [
    {
     "name": "stdout",
     "output_type": "stream",
     "text": [
      "[0, 0, 1, 1, 1, 0, 1]\n"
     ]
    }
   ],
   "source": [
    "chromosome = [0, 0, 1, 1, 1, 0, 1]\n",
    "print(mutation(chromosome, 10))"
   ]
  },
  {
   "cell_type": "code",
   "execution_count": 135,
   "metadata": {},
   "outputs": [],
   "source": [
    "import numpy as np\n",
    "import matplotlib.pyplot as plt\n",
    "\n",
    "population = initializePopulation(100, 10)\n",
    "\n",
    "def geneticAlgorithm(population: list[list], maxWeight: int, iterations: int, elitSize: int):\n",
    "    #meanFitness = []\n",
    "    #fitnessList = [calculateFitness(i, maxWeight, True) for i in population]\n",
    "    #mean = np.mean(fitnessList)\n",
    "    #meanFitness.append(mean)\n",
    "\n",
    "    for i in range(iterations):\n",
    "        sortedPopulation = sortPopulation(population, maxWeight, False)\n",
    "        new_population = sortedPopulation[:elitSize]\n",
    "        while len(new_population) != len(population):\n",
    "            \n",
    "            firstIndividual = tournamentSelection(population, 2, maxWeight)\n",
    "            secondIndividual = tournamentSelection(population, 2, maxWeight)\n",
    "\n",
    "            #firstIndividual = rouletteWheelSelection(population, maxWeight)\n",
    "            #secondIndividual = rouletteWheelSelection(population, maxWeight)\n",
    "            \n",
    "            #offsprings = singlePointCrossover(firstIndividual, secondIndividual)\n",
    "            offsprings = uniformCrossover(firstIndividual, secondIndividual, maxWeight)\n",
    "            #offsprings = multiplePointCrossover(firstIndividual, secondIndividual)\n",
    "            offsprings[0] = mutation(offsprings[0], len(offsprings[0]))\n",
    "            offsprings[1] = mutation(offsprings[1], len(offsprings[1]))\n",
    "\n",
    "            new_population.extend(offsprings)\n",
    "\n",
    "        population = new_population\n",
    "\n",
    "        #fitnessList = [calculateFitness(i, maxWeight, True) for i in population]\n",
    "        #mean = np.mean(fitnessList)\n",
    "        #meanFitness.append(mean)\n",
    "\n",
    "    #x = np.arange(0, iterations + 1)\n",
    "    #plt.plot(x, meanFitness)\n",
    "    #plt.title(\"Mean Fitness over iterations\")\n",
    "    #plt.xlabel(\"Iteration\")\n",
    "    #plt.ylabel(\"Mean Fitness\")\n",
    "    return population\n",
    "\n",
    "new = geneticAlgorithm(population, 1000, 50, 2)\n"
   ]
  },
  {
   "cell_type": "code",
   "execution_count": 136,
   "metadata": {},
   "outputs": [
    {
     "name": "stdout",
     "output_type": "stream",
     "text": [
      "[1, 0, 1, 1, 1, 1, 1, 0, 0, 0], Fitness 409.00000000000006, calorie 1787.0, protein 40.900000000000006\n",
      "[1, 0, 0, 1, 1, 1, 1, 0, 1, 0], Fitness 399.00000000000006, calorie 1911.0, protein 39.900000000000006\n",
      "[1, 1, 0, 1, 0, 0, 1, 1, 0, 1], Fitness 379.3, calorie 1940.0, protein 37.93\n",
      "[0, 0, 1, 1, 0, 1, 1, 1, 0, 0], Fitness 351.5, calorie 1505.0, protein 35.15\n",
      "[0, 0, 1, 1, 0, 1, 1, 1, 0, 0], Fitness 351.5, calorie 1505.0, protein 35.15\n",
      "[0, 0, 0, 1, 1, 1, 1, 0, 0, 1], Fitness 350.0, calorie 1587.0, protein 35.0\n",
      "[0, 0, 0, 1, 0, 1, 1, 1, 1, 0], Fitness 341.5, calorie 1629.0, protein 34.15\n",
      "[0, 0, 0, 1, 1, 1, 1, 0, 1, 1], Fitness 330.6, calorie 2088.0, protein 40.1\n",
      "[1, 0, 1, 0, 0, 1, 1, 1, 0, 0], Fitness 330.3, calorie 1580.0, protein 33.03\n",
      "[0, 0, 1, 0, 0, 1, 1, 1, 1, 0], Fitness 322.5, calorie 1774.0, protein 32.25\n",
      "[0, 1, 1, 1, 1, 0, 0, 1, 0, 0], Fitness 317.29999999999995, calorie 1510.0, protein 31.729999999999997\n",
      "[1, 1, 0, 1, 1, 0, 0, 0, 1, 0], Fitness 299.0, calorie 1643.0, protein 29.9\n",
      "[1, 1, 0, 0, 1, 0, 1, 0, 0, 1], Fitness 298.0, calorie 1683.0, protein 29.799999999999997\n",
      "[1, 1, 1, 0, 1, 0, 0, 1, 0, 0], Fitness 296.1, calorie 1585.0, protein 29.61\n",
      "[0, 0, 0, 1, 0, 1, 1, 1, 0, 0], Fitness 290.5, calorie 1128.0, protein 29.05\n",
      "[0, 0, 0, 1, 0, 1, 1, 1, 0, 0], Fitness 290.5, calorie 1128.0, protein 29.05\n",
      "[0, 0, 0, 1, 1, 1, 1, 0, 0, 0], Fitness 289.20000000000005, calorie 1103.0, protein 28.92\n",
      "[0, 0, 0, 1, 1, 1, 1, 0, 0, 0], Fitness 289.20000000000005, calorie 1103.0, protein 28.92\n",
      "[0, 0, 0, 1, 1, 1, 1, 0, 0, 0], Fitness 289.20000000000005, calorie 1103.0, protein 28.92\n",
      "[0, 0, 0, 1, 1, 1, 0, 1, 0, 0], Fitness 287.1, calorie 1112.0, protein 28.71\n",
      "[0, 0, 1, 1, 0, 1, 1, 0, 0, 0], Fitness 284.4, calorie 1207.0, protein 28.439999999999998\n",
      "[1, 0, 0, 1, 0, 1, 1, 0, 0, 0], Fitness 282.2, calorie 1137.0, protein 28.22\n",
      "[0, 0, 0, 1, 0, 1, 0, 1, 0, 1], Fitness 282.1, calorie 1323.0, protein 28.21\n",
      "[0, 0, 1, 1, 1, 0, 0, 1, 0, 0], Fitness 273.9, calorie 1180.0, protein 27.39\n",
      "[1, 0, 0, 1, 1, 0, 1, 0, 0, 0], Fitness 273.8, calorie 1101.0, protein 27.380000000000003\n",
      "[0, 0, 0, 1, 1, 1, 0, 0, 1, 0], Fitness 271.0, calorie 1315.0, protein 27.1\n",
      "[0, 0, 1, 1, 0, 0, 1, 0, 0, 1], Fitness 271.0, calorie 1382.0, protein 27.1\n",
      "[0, 0, 1, 0, 1, 1, 1, 0, 0, 0], Fitness 270.20000000000005, calorie 1248.0, protein 27.020000000000003\n",
      "[1, 0, 0, 1, 0, 1, 0, 0, 1, 0], Fitness 264.0, calorie 1349.0, protein 26.4\n",
      "[0, 0, 0, 0, 0, 1, 1, 1, 1, 0], Fitness 261.5, calorie 1397.0, protein 26.15\n",
      "[1, 0, 1, 1, 0, 0, 0, 0, 0, 1], Fitness 260.6, calorie 1400.0, protein 26.060000000000002\n",
      "[0, 1, 0, 1, 0, 0, 1, 1, 0, 0], Fitness 259.7, calorie 1149.0, protein 25.97\n",
      "[0, 1, 1, 1, 0, 1, 0, 0, 0, 0], Fitness 258.6, calorie 1248.0, protein 25.86\n",
      "[0, 1, 0, 1, 0, 1, 0, 0, 0, 1], Fitness 258.4, calorie 1355.0, protein 25.839999999999996\n",
      "[1, 0, 0, 1, 0, 0, 0, 1, 1, 0], Fitness 256.9, calorie 1338.0, protein 25.689999999999998\n",
      "[1, 0, 0, 0, 1, 0, 1, 0, 0, 1], Fitness 254.60000000000002, calorie 1353.0, protein 25.46\n",
      "[0, 1, 1, 1, 0, 0, 1, 0, 0, 0], Fitness 253.6, calorie 1228.0, protein 25.36\n",
      "[0, 1, 0, 1, 0, 0, 1, 0, 0, 1], Fitness 253.39999999999998, calorie 1335.0, protein 25.339999999999996\n",
      "[1, 1, 0, 1, 0, 0, 1, 0, 0, 0], Fitness 251.4, calorie 1158.0, protein 25.14\n",
      "[1, 1, 1, 1, 0, 0, 0, 0, 0, 0], Fitness 243.2, calorie 1246.0, protein 24.32\n",
      "[0, 1, 1, 0, 0, 0, 1, 0, 0, 1], Fitness 234.39999999999998, calorie 1480.0, protein 23.439999999999998\n",
      "[0, 0, 0, 1, 0, 1, 1, 0, 0, 0], Fitness 223.4, calorie 830.0, protein 22.34\n",
      "[0, 0, 0, 1, 0, 1, 1, 0, 0, 0], Fitness 223.4, calorie 830.0, protein 22.34\n",
      "[0, 0, 0, 1, 0, 1, 1, 0, 0, 0], Fitness 223.4, calorie 830.0, protein 22.34\n",
      "[0, 0, 0, 1, 1, 1, 0, 0, 0, 0], Fitness 220.0, calorie 814.0, protein 22.0\n",
      "[0, 0, 0, 1, 1, 1, 0, 0, 0, 0], Fitness 220.0, calorie 814.0, protein 22.0\n",
      "[0, 0, 0, 1, 1, 1, 0, 0, 0, 0], Fitness 220.0, calorie 814.0, protein 22.0\n",
      "[0, 0, 0, 1, 1, 1, 0, 0, 0, 0], Fitness 220.0, calorie 814.0, protein 22.0\n",
      "[0, 0, 1, 1, 0, 1, 0, 0, 0, 0], Fitness 215.2, calorie 918.0, protein 21.52\n",
      "[0, 0, 0, 1, 1, 0, 1, 0, 0, 0], Fitness 215.0, calorie 794.0, protein 21.5\n",
      "[1, 0, 0, 1, 0, 1, 0, 0, 0, 0], Fitness 212.99999999999997, calorie 848.0, protein 21.299999999999997\n",
      "[0, 0, 0, 0, 1, 1, 1, 0, 0, 0], Fitness 209.20000000000002, calorie 871.0, protein 20.92\n",
      "[0, 0, 0, 0, 1, 1, 1, 0, 0, 0], Fitness 209.20000000000002, calorie 871.0, protein 20.92\n",
      "[0, 0, 0, 1, 0, 0, 0, 1, 0, 1], Fitness 207.89999999999998, calorie 1014.0, protein 20.79\n",
      "[1, 0, 0, 1, 1, 0, 0, 0, 0, 0], Fitness 204.60000000000002, calorie 812.0, protein 20.46\n",
      "[1, 0, 0, 1, 1, 0, 0, 0, 0, 0], Fitness 204.60000000000002, calorie 812.0, protein 20.46\n",
      "[0, 0, 0, 0, 1, 0, 1, 1, 0, 0], Fitness 202.10000000000002, calorie 860.0, protein 20.21\n",
      "[1, 0, 1, 1, 0, 0, 0, 0, 0, 0], Fitness 199.8, calorie 916.0, protein 19.98\n",
      "[0, 0, 1, 0, 0, 0, 1, 1, 0, 0], Fitness 197.3, calorie 964.0, protein 19.73\n",
      "[1, 0, 0, 0, 0, 0, 1, 1, 0, 0], Fitness 195.10000000000002, calorie 894.0, protein 19.51\n",
      "[0, 1, 0, 1, 1, 0, 0, 0, 0, 0], Fitness 189.20000000000002, calorie 835.0, protein 18.92\n",
      "[0, 1, 0, 1, 1, 0, 0, 0, 0, 0], Fitness 189.20000000000002, calorie 835.0, protein 18.92\n",
      "[0, 1, 0, 1, 1, 0, 0, 0, 0, 0], Fitness 189.20000000000002, calorie 835.0, protein 18.92\n",
      "[1, 0, 1, 0, 0, 0, 0, 1, 0, 0], Fitness 186.9, calorie 982.0, protein 18.69\n",
      "[1, 0, 1, 0, 1, 0, 0, 0, 0, 0], Fitness 185.60000000000002, calorie 957.0, protein 18.560000000000002\n",
      "[0, 1, 0, 0, 0, 1, 0, 0, 0, 1], Fitness 178.4, calorie 1123.0, protein 17.84\n",
      "[0, 1, 0, 0, 1, 0, 1, 0, 0, 0], Fitness 178.4, calorie 892.0, protein 17.84\n",
      "[0, 1, 1, 0, 0, 0, 1, 0, 0, 0], Fitness 173.6, calorie 996.0, protein 17.36\n",
      "[0, 1, 1, 0, 1, 0, 0, 0, 0, 0], Fitness 170.2, calorie 980.0, protein 17.02\n",
      "[1, 1, 1, 0, 0, 0, 0, 0, 0, 0], Fitness 163.2, calorie 1014.0, protein 16.32\n",
      "[0, 0, 0, 1, 0, 1, 0, 0, 0, 0], Fitness 154.2, calorie 541.0, protein 15.42\n",
      "[0, 0, 0, 1, 0, 1, 0, 0, 0, 0], Fitness 154.2, calorie 541.0, protein 15.42\n",
      "[0, 0, 0, 1, 0, 1, 0, 0, 0, 0], Fitness 154.2, calorie 541.0, protein 15.42\n",
      "[0, 0, 0, 1, 0, 0, 1, 0, 0, 0], Fitness 149.2, calorie 521.0, protein 14.92\n",
      "[0, 0, 0, 1, 0, 0, 1, 0, 0, 0], Fitness 149.2, calorie 521.0, protein 14.92\n",
      "[0, 0, 0, 1, 0, 0, 1, 0, 0, 0], Fitness 149.2, calorie 521.0, protein 14.92\n",
      "[0, 0, 0, 1, 0, 0, 0, 1, 0, 0], Fitness 147.10000000000002, calorie 530.0, protein 14.71\n",
      "[0, 0, 0, 1, 0, 0, 0, 1, 0, 0], Fitness 147.10000000000002, calorie 530.0, protein 14.71\n",
      "[0, 0, 0, 1, 1, 0, 0, 0, 0, 0], Fitness 145.8, calorie 505.0, protein 14.58\n",
      "[0, 0, 0, 1, 1, 0, 0, 0, 0, 0], Fitness 145.8, calorie 505.0, protein 14.58\n",
      "[0, 0, 0, 0, 0, 1, 1, 0, 0, 0], Fitness 143.4, calorie 598.0, protein 14.34\n",
      "[0, 0, 0, 0, 0, 1, 1, 0, 0, 0], Fitness 143.4, calorie 598.0, protein 14.34\n",
      "[0, 0, 0, 0, 0, 0, 1, 1, 0, 0], Fitness 136.29999999999998, calorie 587.0, protein 13.629999999999999\n",
      "[0, 0, 0, 0, 1, 0, 1, 0, 0, 0], Fitness 135.0, calorie 562.0, protein 13.5\n",
      "[0, 0, 0, 0, 1, 0, 1, 0, 0, 0], Fitness 135.0, calorie 562.0, protein 13.5\n",
      "[1, 0, 0, 0, 0, 1, 0, 0, 0, 0], Fitness 133.0, calorie 616.0, protein 13.3\n",
      "[1, 0, 0, 0, 0, 0, 1, 0, 0, 0], Fitness 128.0, calorie 596.0, protein 12.8\n",
      "[1, 0, 0, 0, 0, 0, 0, 1, 0, 0], Fitness 125.9, calorie 605.0, protein 12.59\n",
      "[0, 1, 0, 0, 0, 0, 1, 0, 0, 0], Fitness 112.6, calorie 619.0, protein 11.26\n",
      "[0, 1, 0, 0, 1, 0, 0, 0, 0, 0], Fitness 109.2, calorie 603.0, protein 10.92\n",
      "[0, 1, 0, 0, 1, 0, 0, 0, 0, 0], Fitness 109.2, calorie 603.0, protein 10.92\n",
      "[1, 1, 0, 0, 0, 0, 0, 0, 0, 0], Fitness 102.19999999999999, calorie 637.0, protein 10.219999999999999\n",
      "[0, 0, 0, 0, 0, 1, 0, 0, 0, 0], Fitness 74.2, calorie 309.0, protein 7.42\n",
      "[0, 0, 0, 0, 0, 1, 0, 0, 0, 0], Fitness 74.2, calorie 309.0, protein 7.42\n",
      "[0, 0, 0, 0, 0, 1, 0, 0, 0, 0], Fitness 74.2, calorie 309.0, protein 7.42\n",
      "[0, 0, 0, 0, 0, 0, 1, 0, 0, 0], Fitness 69.2, calorie 289.0, protein 6.92\n",
      "[0, 0, 0, 0, 0, 0, 0, 1, 0, 0], Fitness 67.1, calorie 298.0, protein 6.71\n",
      "[0, 0, 0, 0, 1, 0, 0, 0, 0, 0], Fitness 65.8, calorie 273.0, protein 6.58\n",
      "[1, 0, 0, 0, 0, 0, 0, 0, 0, 0], Fitness 58.8, calorie 307.0, protein 5.88\n",
      "[0, 1, 0, 0, 0, 0, 0, 0, 0, 0], Fitness 43.4, calorie 330.0, protein 4.34\n"
     ]
    }
   ],
   "source": [
    "sortedNew = sortPopulation(new, 2000, False)\n",
    "\n",
    "for i in sortedNew:\n",
    "    fitness = calculateFitness(i, 2000, False)\n",
    "    totalWeight = 0\n",
    "    totalProtein = 0\n",
    "    for j in range(len(i)):\n",
    "        if i[j]:  \n",
    "            protein = df.iloc[j]['Protein (g)']\n",
    "            weight = df.iloc[j]['Calories']\n",
    "            totalProtein += protein\n",
    "            totalWeight += weight\n",
    "\n",
    "    print(f\"{i}, Fitness {fitness}, calorie {totalWeight}, protein {totalProtein}\")"
   ]
  }
 ],
 "metadata": {
  "kernelspec": {
   "display_name": "Python 3",
   "language": "python",
   "name": "python3"
  },
  "language_info": {
   "codemirror_mode": {
    "name": "ipython",
    "version": 3
   },
   "file_extension": ".py",
   "mimetype": "text/x-python",
   "name": "python",
   "nbconvert_exporter": "python",
   "pygments_lexer": "ipython3",
   "version": "3.10.7"
  }
 },
 "nbformat": 4,
 "nbformat_minor": 2
}
