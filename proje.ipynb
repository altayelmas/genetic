{
 "cells": [
  {
   "cell_type": "code",
   "execution_count": 2,
   "metadata": {},
   "outputs": [
    {
     "data": {
      "text/html": [
       "<div>\n",
       "<style scoped>\n",
       "    .dataframe tbody tr th:only-of-type {\n",
       "        vertical-align: middle;\n",
       "    }\n",
       "\n",
       "    .dataframe tbody tr th {\n",
       "        vertical-align: top;\n",
       "    }\n",
       "\n",
       "    .dataframe thead th {\n",
       "        text-align: right;\n",
       "    }\n",
       "</style>\n",
       "<table border=\"1\" class=\"dataframe\">\n",
       "  <thead>\n",
       "    <tr style=\"text-align: right;\">\n",
       "      <th></th>\n",
       "      <th>Name</th>\n",
       "      <th>Calories</th>\n",
       "      <th>Protein (g)</th>\n",
       "    </tr>\n",
       "  </thead>\n",
       "  <tbody>\n",
       "    <tr>\n",
       "      <th>0</th>\n",
       "      <td>Pillsbury Golden Layer Buttermilk Biscuits Art...</td>\n",
       "      <td>307.0</td>\n",
       "      <td>5.88</td>\n",
       "    </tr>\n",
       "    <tr>\n",
       "      <th>1</th>\n",
       "      <td>Pillsbury Cinnamon Rolls With Icing Refrigerat...</td>\n",
       "      <td>330.0</td>\n",
       "      <td>4.34</td>\n",
       "    </tr>\n",
       "    <tr>\n",
       "      <th>2</th>\n",
       "      <td>Kraft Foods Shake N Bake Original Recipe Coati...</td>\n",
       "      <td>377.0</td>\n",
       "      <td>6.10</td>\n",
       "    </tr>\n",
       "    <tr>\n",
       "      <th>3</th>\n",
       "      <td>George Weston Bakeries Thomas English Muffins</td>\n",
       "      <td>232.0</td>\n",
       "      <td>8.00</td>\n",
       "    </tr>\n",
       "    <tr>\n",
       "      <th>4</th>\n",
       "      <td>Waffles Buttermilk Frozen Ready-To-Heat</td>\n",
       "      <td>273.0</td>\n",
       "      <td>6.58</td>\n",
       "    </tr>\n",
       "  </tbody>\n",
       "</table>\n",
       "</div>"
      ],
      "text/plain": [
       "                                                Name  Calories  Protein (g)\n",
       "0  Pillsbury Golden Layer Buttermilk Biscuits Art...     307.0         5.88\n",
       "1  Pillsbury Cinnamon Rolls With Icing Refrigerat...     330.0         4.34\n",
       "2  Kraft Foods Shake N Bake Original Recipe Coati...     377.0         6.10\n",
       "3      George Weston Bakeries Thomas English Muffins     232.0         8.00\n",
       "4            Waffles Buttermilk Frozen Ready-To-Heat     273.0         6.58"
      ]
     },
     "execution_count": 2,
     "metadata": {},
     "output_type": "execute_result"
    }
   ],
   "source": [
    "import pandas as pd\n",
    "\n",
    "# Read data\n",
    "df = pd.read_excel(\"MyFoodData.xlsx\")\n",
    "\n",
    "# Drops unrelevant columns\n",
    "df = df.filter(items = [\"Name\", \"Calories\", \"Protein (g)\"])\n",
    "df.head()"
   ]
  },
  {
   "cell_type": "code",
   "execution_count": 80,
   "metadata": {},
   "outputs": [],
   "source": [
    "def calculateFitness(chromosome: list, maxWeight: int, negative: bool, penaltyFactor: int = 100):\n",
    "    totalValue = 0\n",
    "    totalWeight = 0\n",
    "\n",
    "    for i in range(len(chromosome)):\n",
    "        if chromosome[i] == 1:\n",
    "            value = df.iloc[i]['Protein (g)']\n",
    "            totalValue += value\n",
    "            \n",
    "            weight = df.iloc[i]['Calories']\n",
    "            totalWeight += weight\n",
    "    \n",
    "    proteinWeight = 10\n",
    "    # Penalty if the weight exceeds maxWeight\n",
    "    if totalWeight > maxWeight:\n",
    "        penalty = (totalWeight - maxWeight) ** penaltyFactor\n",
    "        fitness = proteinWeight * totalValue - penalty\n",
    "    # No penalty\n",
    "    else:\n",
    "        fitness = proteinWeight * totalValue\n",
    "\n",
    "    finalFitness = fitness if negative else max(1, fitness)\n",
    "    return finalFitness"
   ]
  },
  {
   "cell_type": "code",
   "execution_count": 46,
   "metadata": {},
   "outputs": [],
   "source": [
    "import random\n",
    "\n",
    "def generateIndividualWithLimit(chromosomeSize: int, maxCalories: int):\n",
    "    chromosome = [0] * chromosomeSize\n",
    "    indices = list(range(chromosomeSize))\n",
    "    random.shuffle(indices)\n",
    "\n",
    "    totalCalories = 0\n",
    "    for i in indices:\n",
    "        calorie = df.iloc[i]['Calories']\n",
    "        if totalCalories + calorie <= maxCalories:\n",
    "            chromosome[i] = 1\n",
    "            totalCalories += calorie\n",
    "        else:\n",
    "            break\n",
    "    return chromosome\n"
   ]
  },
  {
   "cell_type": "code",
   "execution_count": 48,
   "metadata": {},
   "outputs": [],
   "source": [
    "import random \n",
    "\n",
    "def initializePopulation(populationSize: int, chromosomeSize: int, seed: int = None):\n",
    "    population = []\n",
    "\n",
    "    # Set seed\n",
    "    if seed is not None:\n",
    "        random.seed(seed)\n",
    "\n",
    "    # Randomly generate populationSize amount of chromosomes with chromosomeSize size\n",
    "    for i in range(populationSize):\n",
    "        member = [random.randint(0, 1) for i in range(chromosomeSize)]\n",
    "        population.append(member)\n",
    "    \n",
    "    random.seed(None)\n",
    "    \n",
    "    return population\n",
    "\n",
    "def initializePopulationWithMaxWeight(populationSize: int, chromosomeSize: int, maxCalories: int, seed: int = None, rate: float = 1):\n",
    "    population = []\n",
    "\n",
    "    # Set seed\n",
    "    if seed is not None:\n",
    "        random.seed(seed)\n",
    "\n",
    "    # Randomly generate populationSize amount of chromosomes with chromosomeSize size\n",
    "    for i in range(int(populationSize * rate)):\n",
    "        member = [random.randint(0, 1) for i in range(chromosomeSize)]\n",
    "        population.append(member)\n",
    "    \n",
    "    while len(population) != populationSize:\n",
    "        member = generateIndividualWithLimit(chromosomeSize, maxCalories)\n",
    "        population.append(member)\n",
    "        \n",
    "    random.seed(None)\n",
    "    \n",
    "    return population\n",
    "\n"
   ]
  },
  {
   "cell_type": "code",
   "execution_count": 5,
   "metadata": {},
   "outputs": [
    {
     "name": "stdout",
     "output_type": "stream",
     "text": [
      "[0, 0, 1, 0, 0], Fitness 61.0\n",
      "[0, 0, 0, 1, 0], Fitness 80.0\n",
      "[0, 0, 0, 0, 0], Fitness 1\n",
      "[0, 1, 0, 1, 1], Fitness 189.20000000000002\n",
      "[0, 0, 1, 1, 1], Fitness 206.8\n",
      "\n",
      "[0, 0, 1, 1, 1], Fitness 206.8\n",
      "[0, 1, 0, 1, 1], Fitness 189.20000000000002\n",
      "[0, 0, 0, 1, 0], Fitness 80.0\n",
      "[0, 0, 1, 0, 0], Fitness 61.0\n",
      "[0, 0, 0, 0, 0], Fitness 1\n",
      "4\n"
     ]
    }
   ],
   "source": [
    "def sortPopulation(population: list[list], maxWeight: int, negative: bool, penaltyFactor: int = 1.5):\n",
    "    return sorted(population, key=lambda individual: calculateFitness(individual, maxWeight, negative, penaltyFactor), reverse=True)\n",
    "\n",
    "population = initializePopulation(5, 5, 42)\n",
    "for i in population:\n",
    "    print(f\"{i}, Fitness {calculateFitness(i, 2000, False)}\")\n",
    "print()\n",
    "population = sortPopulation(population, 2000, False)\n",
    "for i in population:\n",
    "    print(f\"{i}, Fitness {calculateFitness(i, 2000, False)}\")\n",
    "\n",
    "print(random.randint(1, 10))"
   ]
  },
  {
   "cell_type": "code",
   "execution_count": 6,
   "metadata": {},
   "outputs": [],
   "source": [
    "def rouletteWheelSelection(population: list[list], maxWeight: int, penaltyFactor: int = 1.5):\n",
    "    total_fitness = 0\n",
    "    fitnesses = []\n",
    "\n",
    "    # Add all fitnesses\n",
    "    for i in population:\n",
    "        # Negative fitness is not allowed\n",
    "        fitness = calculateFitness(i, maxWeight, False, penaltyFactor)\n",
    "        fitnesses.append(fitness)\n",
    "        total_fitness += fitness\n",
    "\n",
    "    # An individual in the population have fitness / (sum of all fitnesses) chance to be selected in the Roulette Wheel Selection\n",
    "    prob_sum = 0\n",
    "    # Random float as roulette\n",
    "    roulette = random.uniform(0, total_fitness)\n",
    "    for i in range(len(population)):\n",
    "        # If the prob_sum + fitness of the individual exceedes the roulette value, the roulette is in that probability area, so the individual is selected\n",
    "        # Example:\n",
    "        # If we have 5 individuals with fitness values 5, 10, 15, 6, 3 and roulette as 21, the individual with fitness value 15 should be selected.\n",
    "        # In the first iteration of the loop prob_sum would be 5, in the second iteration 15 and in the third iteration it would be 30, exceeding the roulette value\n",
    "        # Third individual from the population would be selected according to this algorithm\n",
    "        prob_sum += fitnesses[i]\n",
    "        if prob_sum > roulette:\n",
    "            return population[i]\n",
    "\n",
    "        "
   ]
  },
  {
   "cell_type": "code",
   "execution_count": 7,
   "metadata": {},
   "outputs": [],
   "source": [
    "def tournamentSelection(population: list[list], tournamentSize: int, maxWeight: int, penaltyFactor: int = 1.5):\n",
    "    # tournamentSize amount of individuals are selected for the tournament\n",
    "    randomIndividuals = random.sample(range(0, len(population)), tournamentSize)\n",
    "    bestFitness = -1\n",
    "    bestIndividual = []\n",
    "    #print(randomIndividuals)\n",
    "    \n",
    "    for i in randomIndividuals:\n",
    "        # Individual with best fitness wins the tournament\n",
    "        # This individual is selected\n",
    "        fitness = calculateFitness(population[i], maxWeight, False, penaltyFactor)\n",
    "        #print(f\"Individual {i}, fitness {fitness}\")\n",
    "        if fitness > bestFitness:\n",
    "            bestFitness = fitness\n",
    "            bestIndividual = i\n",
    "    return population[bestIndividual]\n"
   ]
  },
  {
   "cell_type": "code",
   "execution_count": 8,
   "metadata": {},
   "outputs": [
    {
     "name": "stdout",
     "output_type": "stream",
     "text": [
      "[1, 0, 1, 0, 1]\n"
     ]
    }
   ],
   "source": [
    "population = initializePopulation(10, 5)\n",
    "\n",
    "bestIndividual = tournamentSelection(population, 4, 2500)\n",
    "print(bestIndividual)"
   ]
  },
  {
   "cell_type": "code",
   "execution_count": 9,
   "metadata": {},
   "outputs": [
    {
     "name": "stdout",
     "output_type": "stream",
     "text": [
      "[0, 0, 0, 1, 0] 80.0\n",
      "[1, 0, 0, 1, 1] 204.60000000000002\n",
      "[0, 0, 0, 0, 0] 1\n",
      "[0, 0, 0, 1, 1] 145.8\n",
      "[1, 1, 0, 0, 0] 102.19999999999999\n",
      "[0, 1, 1, 1, 1] 250.19999999999996\n",
      "[1, 0, 1, 0, 1] 185.60000000000002\n",
      "[1, 0, 1, 0, 0] 119.80000000000001\n",
      "[0, 1, 1, 0, 1] 170.2\n",
      "[1, 0, 1, 0, 0] 119.80000000000001\n",
      "\n",
      "[1, 0, 1, 0, 0]\n"
     ]
    }
   ],
   "source": [
    "population = initializePopulation(10, 5)\n",
    "for i in range(len((population))):\n",
    "    print(population[i], calculateFitness(population[i], 2500, False))\n",
    "\n",
    "print()\n",
    "selected = rouletteWheelSelection(population, 2500)\n",
    "print(selected)"
   ]
  },
  {
   "cell_type": "code",
   "execution_count": 10,
   "metadata": {},
   "outputs": [],
   "source": [
    "import random\n",
    "\n",
    "def singlePointCrossover(firstParent: list, secondParent: list):\n",
    "\n",
    "   # Selects a random crossover point\n",
    "   crossOverPoint = random.randint(1, len(firstParent) - 1)\n",
    "\n",
    "   # Selects the crossover parts from parents (From random point to end of the chromosome)\n",
    "   crossOverPart1 = firstParent[crossOverPoint: len(firstParent)]\n",
    "   crossOverPart2 = secondParent[crossOverPoint: len(secondParent)]\n",
    "\n",
    "   firstOffspring = firstParent\n",
    "   secondOffspring = secondParent\n",
    "\n",
    "   # Swaps the crossover parts between parents\n",
    "   firstOffspring[crossOverPoint: len(firstParent)] = crossOverPart2\n",
    "   secondOffspring[crossOverPoint: len(secondParent)] = crossOverPart1\n",
    "\n",
    "   return [firstOffspring, secondOffspring]"
   ]
  },
  {
   "cell_type": "code",
   "execution_count": 11,
   "metadata": {},
   "outputs": [
    {
     "name": "stdout",
     "output_type": "stream",
     "text": [
      "[[0, 0, 1, 1, 0, 1], [1, 1, 0, 0, 0, 1]]\n"
     ]
    }
   ],
   "source": [
    "firstParent = [0, 0 , 1, 1, 0, 1]\n",
    "secondParent = [1, 1, 0, 0, 0, 1]\n",
    "\n",
    "offsprings = singlePointCrossover(firstParent, secondParent)\n",
    "print(offsprings)"
   ]
  },
  {
   "cell_type": "code",
   "execution_count": 12,
   "metadata": {},
   "outputs": [],
   "source": [
    "def multiplePointCrossover(firstParent: list, secondParent: list):\n",
    "    # Selects two random crossover points\n",
    "    firstCrossOverPoint = random.randint(1, len(firstParent) - 1)\n",
    "    secondCrossOverPoint = random.randint(1, len(secondParent) - 1)\n",
    "\n",
    "    # Change the crossover point if the points are same\n",
    "    while (firstCrossOverPoint == secondCrossOverPoint):\n",
    "        secondCrossOverPoint = random.randint(1, len(firstParent) - 1)\n",
    "    \n",
    "    # If the first crossover point is at the right of the second crossover point swap the points\n",
    "    if (firstCrossOverPoint > secondCrossOverPoint):\n",
    "        firstCrossOverPoint, secondCrossOverPoint = secondCrossOverPoint, firstCrossOverPoint\n",
    "    \n",
    "    # Select the crossover parts from point1 to point2\n",
    "    crossOverPart1 = firstParent[firstCrossOverPoint: secondCrossOverPoint + 1]\n",
    "    crossOverPart2 = secondParent[firstCrossOverPoint: secondCrossOverPoint + 1]\n",
    "\n",
    "    firstOffspring = firstParent\n",
    "    secondOffspring = secondParent\n",
    "\n",
    "    # Swap the crossover parts between parents\n",
    "    firstOffspring[firstCrossOverPoint: secondCrossOverPoint + 1] = crossOverPart2\n",
    "    secondOffspring[firstCrossOverPoint: secondCrossOverPoint + 1] = crossOverPart1\n",
    "\n",
    "    return [firstOffspring, secondOffspring]\n",
    "\n",
    "    \n"
   ]
  },
  {
   "cell_type": "code",
   "execution_count": 13,
   "metadata": {},
   "outputs": [
    {
     "name": "stdout",
     "output_type": "stream",
     "text": [
      "[[0, 0, 1, 1, 0, 1], [1, 1, 0, 0, 0, 1]]\n"
     ]
    }
   ],
   "source": [
    "firstParent = [0, 0 , 1, 1, 0, 1]\n",
    "secondParent = [1, 1, 0, 0, 0, 1]\n",
    "\n",
    "offsprings = multiplePointCrossover(firstParent, secondParent)\n",
    "print(offsprings)"
   ]
  },
  {
   "cell_type": "code",
   "execution_count": 34,
   "metadata": {},
   "outputs": [],
   "source": [
    "def uniformCrossover(firstParent: list, secondParent: list, maxWeight: int, penaltyFactor: int = 1.5):\n",
    "    firstFitness = calculateFitness(firstParent, maxWeight, True, penaltyFactor)\n",
    "    secondFitness = calculateFitness(secondParent, maxWeight, True, penaltyFactor)\n",
    "\n",
    "    minFitness = min(firstFitness, secondFitness)\n",
    "    if minFitness <= 0:\n",
    "        shift = abs(minFitness) + 1\n",
    "        firstFitness += shift\n",
    "        secondFitness += shift\n",
    "\n",
    "    if (firstFitness == 0 and secondFitness == 0):\n",
    "        probability = 0.5\n",
    "    # Probability in the uniform crossover is fp_1 / (fp_1 + fp_2), where fp_1 is the fitness of the first parent and fp_2 is the fitness of the second parent\n",
    "    else:\n",
    "        probability = firstFitness / (firstFitness + secondFitness)\n",
    "    \n",
    "\n",
    "    firstOffspring = []\n",
    "    secondOffspring = []\n",
    "    i = 0\n",
    "    length = len(firstParent)\n",
    "    while (len(firstOffspring) != length):\n",
    "        randomProb = random.random()\n",
    "        # First chromosome have the chance fp_1 / (fp_1 + fp_2) to the get the gene from first parent.\n",
    "        # If the probability is higher than the random value, first offspring gets the gene from first parent\n",
    "        # This repeats for all of the genes (length of the chromosome)\n",
    "        if (randomProb < probability):\n",
    "            firstOffspring.append(firstParent[i])\n",
    "            secondOffspring.append(secondParent[i])\n",
    "        else:\n",
    "            firstOffspring.append(secondParent[i])\n",
    "            secondOffspring.append(firstParent[i])\n",
    "        i += 1\n",
    "\n",
    "    return [firstOffspring, secondOffspring]\n",
    "\n"
   ]
  },
  {
   "cell_type": "code",
   "execution_count": 15,
   "metadata": {},
   "outputs": [
    {
     "name": "stdout",
     "output_type": "stream",
     "text": [
      "[[1, 0, 1, 1, 0, 1], [0, 1, 0, 0, 0, 1]]\n"
     ]
    }
   ],
   "source": [
    "firstParent = [0, 0 , 1, 1, 0, 1]\n",
    "secondParent = [1, 1, 0, 0, 0, 1]\n",
    "\n",
    "offsprings = uniformCrossover(firstParent, secondParent, 1000)\n",
    "print(offsprings)"
   ]
  },
  {
   "cell_type": "code",
   "execution_count": 16,
   "metadata": {},
   "outputs": [],
   "source": [
    "def mutation(chromosome: list, rate: int):\n",
    "    mutationsRate = 1 / rate\n",
    "    for i in range(len(chromosome)):\n",
    "        # random.random() generates a float between 0 and 1\n",
    "        # If this number is less than or equal to mutation rate there is a bit flip in that gene (mutation occurs)\n",
    "        if random.random() <= mutationsRate:\n",
    "            chromosome[i] = 1 - chromosome[i]\n",
    "    return chromosome"
   ]
  },
  {
   "cell_type": "code",
   "execution_count": 17,
   "metadata": {},
   "outputs": [
    {
     "name": "stdout",
     "output_type": "stream",
     "text": [
      "[0, 0, 1, 0, 1, 0, 1]\n"
     ]
    }
   ],
   "source": [
    "chromosome = [0, 0, 1, 1, 1, 0, 1]\n",
    "print(mutation(chromosome, 10))"
   ]
  },
  {
   "cell_type": "code",
   "execution_count": 87,
   "metadata": {},
   "outputs": [
    {
     "data": {
      "image/png": "[encoded data removed]",
      "text/plain": [
       "<Figure size 640x480 with 1 Axes>"
      ]
     },
     "metadata": {},
     "output_type": "display_data"
    }
   ],
   "source": [
    "import numpy as np\n",
    "import matplotlib.pyplot as plt\n",
    "\n",
    "populationSize = 100\n",
    "chromosomeSize = 100\n",
    "seed = 42\n",
    "maxWeight = 1000\n",
    "#population = initializePopulation(populationSize, chromosomeSize, seed)\n",
    "population = initializePopulationWithMaxWeight(populationSize, chromosomeSize, maxWeight, seed, 0.75)\n",
    "\n",
    "def geneticAlgorithm(population: list[list], maxWeight: int, generations: int, elitSize: int, penaltyFactor: int = 1.5):\n",
    "    \n",
    "    meanFitness = []\n",
    "    fitnessList = [calculateFitness(i, maxWeight, True, penaltyFactor) for i in population]\n",
    "    mean = np.mean(fitnessList)\n",
    "    meanFitness.append(mean)\n",
    "    \n",
    "\n",
    "    for i in range(generations):\n",
    "        sortedPopulation = sortPopulation(population, maxWeight, True, penaltyFactor)\n",
    "        new_population = sortedPopulation[:elitSize]\n",
    "        while len(new_population) != len(population):\n",
    "            \n",
    "            firstIndividual = tournamentSelection(population, 2, maxWeight, penaltyFactor)\n",
    "            secondIndividual = tournamentSelection(population, 2, maxWeight, penaltyFactor)\n",
    "        \n",
    "            #firstIndividual = rouletteWheelSelection(population, maxWeight, penaltyFactor)\n",
    "            #secondIndividual = rouletteWheelSelection(population, maxWeight, penaltyFactor)\n",
    "            \n",
    "            #offsprings = singlePointCrossover(firstIndividual, secondIndividual)\n",
    "            offsprings = uniformCrossover(firstIndividual, secondIndividual, maxWeight, penaltyFactor)\n",
    "            #offsprings = multiplePointCrossover(firstIndividual, secondIndividual)\n",
    "            offsprings[0] = mutation(offsprings[0], len(offsprings[0]))\n",
    "            offsprings[1] = mutation(offsprings[1], len(offsprings[1]))\n",
    "\n",
    "            new_population.extend(offsprings)\n",
    "\n",
    "        population = new_population\n",
    "        #print(f\"Generation {i}\")\n",
    "        #print(population)\n",
    "        \n",
    "        fitnessList = [calculateFitness(i, maxWeight, True, penaltyFactor) for i in population]\n",
    "        mean = np.mean(fitnessList)\n",
    "        meanFitness.append(mean)\n",
    "        \n",
    "    x = np.arange(0, generations + 1)\n",
    "    plt.plot(x, meanFitness)\n",
    "    plt.title(\"Mean Fitness over iterations\")\n",
    "    plt.xlabel(\"Iteration\")\n",
    "    plt.ylabel(\"Mean Fitness\")\n",
    "    \n",
    "    return population\n",
    "\n",
    "generations = 100\n",
    "elitismSize = 2\n",
    "penaltyFactor = 1.2\n",
    "new = geneticAlgorithm(population, maxWeight, generations, elitismSize, penaltyFactor)\n"
   ]
  },
  {
   "cell_type": "code",
   "execution_count": 88,
   "metadata": {},
   "outputs": [
    {
     "name": "stdout",
     "output_type": "stream",
     "text": [
      "Fitness 1141.3, calorie 997.0, protein 114.13\n",
      "Fitness 1141.3, calorie 997.0, protein 114.13\n",
      "Fitness 1141.3, calorie 997.0, protein 114.13\n",
      "Fitness 1141.3, calorie 997.0, protein 114.13\n",
      "Fitness 1141.3, calorie 997.0, protein 114.13\n",
      "Fitness 1141.3, calorie 997.0, protein 114.13\n",
      "Fitness 1141.3, calorie 997.0, protein 114.13\n",
      "Fitness 927.3000000000001, calorie 916.0, protein 92.73\n",
      "Fitness 927.3000000000001, calorie 916.0, protein 92.73\n",
      "Fitness 613.0833889066375, calorie 1131.0, protein 96.03999999999999\n",
      "Fitness 524.8009045785484, calorie 1158.0, protein 95.97\n",
      "Fitness 446.5885992875524, calorie 1176.0, protein 94.16\n",
      "Fitness 88.95960664043082, calorie 1300.0, protein 102.77\n",
      "Fitness 34.87780133424303, calorie 1365.0, protein 122.27\n",
      "Fitness -279.901405069229, calorie 1384.0, protein 98.25\n",
      "Fitness -319.5534782736387, calorie 1394.0, protein 98.24\n",
      "Fitness -447.05598038113885, calorie 1444.0, protein 105.56\n",
      "Fitness -1012.4000052915553, calorie 1589.0, protein 109.69\n",
      "Fitness -1278.8585124736271, calorie 1674.0, protein 120.08\n",
      "Fitness -1447.819947815979, calorie 1671.0, protein 101.86\n",
      "Fitness -1506.3988112726329, calorie 1730.0, protein 122.25\n",
      "Fitness -1525.6097098815637, calorie 1708.0, protein 110.49\n",
      "Fitness -1551.7606851868588, calorie 1757.0, protein 129.87\n",
      "Fitness -1596.0024333880247, calorie 1770.0, protein 131.32999999999998\n",
      "Fitness -1596.0024333880247, calorie 1770.0, protein 131.32999999999998\n",
      "Fitness -1737.1156423042462, calorie 1801.0, protein 131.32999999999998\n",
      "Fitness -1879.1231235458579, calorie 1824.0, protein 127.67\n",
      "Fitness -1978.2654076851907, calorie 1849.0, protein 129.28\n",
      "Fitness -2080.061449133759, calorie 1862.0, protein 125.11999999999999\n",
      "Fitness -2095.388477340165, calorie 1874.0, protein 129.16\n",
      "Fitness -2096.118317186736, calorie 1830.0, protein 108.72999999999999\n",
      "Fitness -2206.84456530894, calorie 1843.0, protein 103.64999999999999\n",
      "Fitness -2514.046159884081, calorie 1967.0, protein 130.98999999999998\n",
      "Fitness -2525.344243916919, calorie 1877.0, protein 87.56\n",
      "Fitness -2669.1574612249997, calorie 1965.0, protein 114.52999999999999\n",
      "Fitness -2669.1574612249997, calorie 1965.0, protein 114.52999999999999\n",
      "Fitness -2677.572850085788, calorie 1904.0, protein 84.94\n",
      "Fitness -2858.1050594563576, calorie 2039.0, protein 131.0\n",
      "Fitness -3592.953055592615, calorie 2211.0, protein 141.63\n",
      "Fitness -3618.9760727224366, calorie 2147.0, protein 107.42999999999999\n",
      "Fitness -3779.2206121168765, calorie 2242.0, protein 138.43\n",
      "Fitness -3870.460005210941, calorie 2174.0, protein 95.57000000000001\n",
      "Fitness -4037.103026907861, calorie 2286.0, protein 134.67\n",
      "Fitness -4459.948799096357, calorie 2345.0, protein 122.16\n",
      "Fitness -4697.678674686515, calorie 2341.0, protein 96.35999999999999\n",
      "Fitness -4911.197118174588, calorie 2482.0, protein 147.17\n",
      "Fitness -5101.421002837756, calorie 2501.0, protein 137.98\n",
      "Fitness -5319.506348929115, calorie 2518.0, protein 124.99\n",
      "Fitness -5369.593389616388, calorie 2433.0, protein 76.09\n",
      "Fitness -5503.351656161406, calorie 2576.0, protein 136.83999999999997\n",
      "Fitness -5534.251656161406, calorie 2576.0, protein 133.75\n",
      "Fitness -5667.210800882555, calorie 2620.0, protein 143.54\n",
      "Fitness -5882.43101330206, calorie 2634.0, protein 129.39\n",
      "Fitness -5884.523341500952, calorie 2608.0, protein 115.50000000000001\n",
      "Fitness -6045.157151868736, calorie 2688.0, protein 141.67\n",
      "Fitness -6045.157151868736, calorie 2688.0, protein 141.67\n",
      "Fitness -6089.514341160585, calorie 2696.0, protein 141.48\n",
      "Fitness -6564.779220937885, calorie 2771.0, protein 133.95\n",
      "Fitness -6633.66271188456, calorie 2796.0, protein 140.47\n",
      "Fitness -6683.6493639341425, calorie 2774.0, protein 123.67\n",
      "Fitness -6683.6493639341425, calorie 2774.0, protein 123.67\n",
      "Fitness -7781.278371358086, calorie 2918.0, protein 91.67\n",
      "Fitness -8075.42330267946, calorie 3091.0, protein 157.23\n",
      "Fitness -8104.844123904003, calorie 3069.0, protein 142.11999999999998\n",
      "Fitness -8241.314353509322, calorie 3082.0, protein 135.66\n",
      "Fitness -8359.501936124263, calorie 3103.0, protein 135.47\n",
      "Fitness -8487.903774356799, calorie 3147.0, protein 147.06999999999996\n",
      "Fitness -8853.224632233581, calorie 3226.0, protein 154.67\n",
      "Fitness -8973.988286498148, calorie 3209.0, protein 133.07\n",
      "Fitness -9506.042174654345, calorie 3331.0, protein 148.52999999999997\n",
      "Fitness -9528.42644863046, calorie 3329.0, protein 145.16\n",
      "Fitness -9551.342174654344, calorie 3331.0, protein 144.0\n",
      "Fitness -9617.224093110948, calorie 3390.0, protein 170.88\n",
      "Fitness -10122.541489446216, calorie 3422.0, protein 138.57\n",
      "Fitness -10626.365089283057, calorie 3481.0, protein 121.91\n",
      "Fitness -11548.366171530477, calorie 3694.0, protein 152.76999999999998\n",
      "Fitness -12485.465613856568, calorie 3851.0, protein 151.02999999999997\n",
      "Fitness -12571.772622404658, calorie 3867.0, protein 151.82999999999998\n",
      "Fitness -13163.554536484695, calorie 3986.0, protein 163.11999999999998\n",
      "Fitness -13477.688404712502, calorie 4014.0, protein 148.36999999999998\n",
      "Fitness -13558.847042733894, calorie 4030.0, protein 149.79\n",
      "Fitness -13920.849600400363, calorie 4089.0, protein 148.84\n",
      "Fitness -14439.129505107954, calorie 4151.0, protein 134.2\n",
      "Fitness -16019.38298139081, calorie 4452.0, protein 158.76\n",
      "Fitness -16067.711505544325, calorie 4470.0, protein 164.95\n",
      "Fitness -16067.711505544325, calorie 4470.0, protein 164.95\n",
      "Fitness -16535.758542084204, calorie 4534.0, protein 157.43\n",
      "Fitness -17019.531306612615, calorie 4628.0, protein 167.00999999999996\n",
      "Fitness -18386.510133687523, calorie 4851.0, protein 169.0\n",
      "Fitness -18596.766284743346, calorie 4852.0, protein 148.59999999999997\n",
      "Fitness -19818.62740072034, calorie 5087.0, protein 174.32000000000002\n",
      "Fitness -19866.719915415, calorie 5099.0, protein 177.10999999999996\n",
      "Fitness -19911.454635423255, calorie 5100.0, protein 173.26999999999998\n",
      "Fitness -22479.065222173875, calorie 5538.0, protein 196.86\n",
      "Fitness -23793.621450572162, calorie 5713.0, protein 178.97\n",
      "Fitness -24936.7634477249, calorie 5923.0, protein 202.05\n",
      "Fitness -25790.972320837893, calorie 6031.0, protein 187.75\n",
      "Fitness -27578.288694190876, calorie 6307.0, protein 192.15\n",
      "Fitness -40331.13482595725, calorie 8164.0, protein 195.39\n",
      "Fitness -46683.07771492091, calorie 9071.0, protein 210.49\n"
     ]
    },
    {
     "data": {
      "text/plain": [
       "'\\nprint(sortedNew[0])\\nfor i, value in enumerate(sortedNew[0]):\\n    if value == 1:\\n        print(f\"Name: {df.iloc[i][\\'Name\\']}, Protein (g): {df.iloc[i][\\'Protein (g)\\']}, Calories: {df.iloc[i][\\'Calories\\']}\")\\n'"
      ]
     },
     "execution_count": 88,
     "metadata": {},
     "output_type": "execute_result"
    }
   ],
   "source": [
    "sortedNew = sortPopulation(new, maxWeight, True, penaltyFactor)\n",
    "\n",
    "for i in sortedNew:\n",
    "    fitness = calculateFitness(i, maxWeight, True, penaltyFactor)\n",
    "    totalWeight = 0\n",
    "    totalProtein = 0\n",
    "    \n",
    "    for j in range(len(i)):\n",
    "        if i[j]:  \n",
    "            protein = df.iloc[j]['Protein (g)']\n",
    "            weight = df.iloc[j]['Calories']\n",
    "            totalProtein += protein\n",
    "            totalWeight += weight\n",
    "\n",
    "    print(f\"Fitness {fitness}, calorie {totalWeight}, protein {totalProtein}\")\n",
    "\n",
    "\"\"\"\n",
    "print(sortedNew[0])\n",
    "for i, value in enumerate(sortedNew[0]):\n",
    "    if value == 1:\n",
    "        print(f\"Name: {df.iloc[i]['Name']}, Protein (g): {df.iloc[i]['Protein (g)']}, Calories: {df.iloc[i]['Calories']}\")\n",
    "\"\"\""
   ]
  }
 ],
 "metadata": {
  "kernelspec": {
   "display_name": "Python 3",
   "language": "python",
   "name": "python3"
  },
  "language_info": {
   "codemirror_mode": {
    "name": "ipython",
    "version": 3
   },
   "file_extension": ".py",
   "mimetype": "text/x-python",
   "name": "python",
   "nbconvert_exporter": "python",
   "pygments_lexer": "ipython3",
   "version": "3.10.7"
  }
 },
 "nbformat": 4,
 "nbformat_minor": 2
}
