{
 "cells": [
  {
   "cell_type": "code",
   "execution_count": 1,
   "metadata": {},
   "outputs": [
    {
     "data": {
      "text/html": [
       "<div>\n",
       "<style scoped>\n",
       "    .dataframe tbody tr th:only-of-type {\n",
       "        vertical-align: middle;\n",
       "    }\n",
       "\n",
       "    .dataframe tbody tr th {\n",
       "        vertical-align: top;\n",
       "    }\n",
       "\n",
       "    .dataframe thead th {\n",
       "        text-align: right;\n",
       "    }\n",
       "</style>\n",
       "<table border=\"1\" class=\"dataframe\">\n",
       "  <thead>\n",
       "    <tr style=\"text-align: right;\">\n",
       "      <th></th>\n",
       "      <th>Name</th>\n",
       "      <th>Calories</th>\n",
       "      <th>Protein (g)</th>\n",
       "    </tr>\n",
       "  </thead>\n",
       "  <tbody>\n",
       "    <tr>\n",
       "      <th>0</th>\n",
       "      <td>Pillsbury Golden Layer Buttermilk Biscuits Art...</td>\n",
       "      <td>307.0</td>\n",
       "      <td>5.88</td>\n",
       "    </tr>\n",
       "    <tr>\n",
       "      <th>1</th>\n",
       "      <td>Pillsbury Cinnamon Rolls With Icing Refrigerat...</td>\n",
       "      <td>330.0</td>\n",
       "      <td>4.34</td>\n",
       "    </tr>\n",
       "    <tr>\n",
       "      <th>2</th>\n",
       "      <td>Kraft Foods Shake N Bake Original Recipe Coati...</td>\n",
       "      <td>377.0</td>\n",
       "      <td>6.10</td>\n",
       "    </tr>\n",
       "    <tr>\n",
       "      <th>3</th>\n",
       "      <td>George Weston Bakeries Thomas English Muffins</td>\n",
       "      <td>232.0</td>\n",
       "      <td>8.00</td>\n",
       "    </tr>\n",
       "    <tr>\n",
       "      <th>4</th>\n",
       "      <td>Waffles Buttermilk Frozen Ready-To-Heat</td>\n",
       "      <td>273.0</td>\n",
       "      <td>6.58</td>\n",
       "    </tr>\n",
       "  </tbody>\n",
       "</table>\n",
       "</div>"
      ],
      "text/plain": [
       "                                                Name  Calories  Protein (g)\n",
       "0  Pillsbury Golden Layer Buttermilk Biscuits Art...     307.0         5.88\n",
       "1  Pillsbury Cinnamon Rolls With Icing Refrigerat...     330.0         4.34\n",
       "2  Kraft Foods Shake N Bake Original Recipe Coati...     377.0         6.10\n",
       "3      George Weston Bakeries Thomas English Muffins     232.0         8.00\n",
       "4            Waffles Buttermilk Frozen Ready-To-Heat     273.0         6.58"
      ]
     },
     "execution_count": 1,
     "metadata": {},
     "output_type": "execute_result"
    }
   ],
   "source": [
    "import pandas as pd\n",
    "\n",
    "# Read data\n",
    "df = pd.read_excel(\"MyFoodData.xlsx\")\n",
    "\n",
    "# Drops unrelevant columns\n",
    "df = df.filter(items = [\"Name\", \"Calories\", \"Protein (g)\"])\n",
    "df.head()"
   ]
  },
  {
   "cell_type": "code",
   "execution_count": 2,
   "metadata": {},
   "outputs": [],
   "source": [
    "def calculateFitness(chromosome: list, maxWeight: int, negative: bool):\n",
    "    totalValue = 0\n",
    "    totalWeight = 0\n",
    "\n",
    "    for i in range(len(chromosome)):\n",
    "        if chromosome[i] == 1:\n",
    "            value = df.iloc[i]['Protein (g)']\n",
    "            totalValue += value\n",
    "            \n",
    "            weight = df.iloc[i]['Calories']\n",
    "            totalWeight += weight\n",
    "    \n",
    "    proteinWeight = 10\n",
    "    # Penalty if the weight exceeds maxWeight\n",
    "    if totalWeight > maxWeight:\n",
    "        penalty = (totalWeight - maxWeight) ** 1.5\n",
    "        fitness = proteinWeight * totalValue - penalty\n",
    "    # No penalty\n",
    "    else:\n",
    "        fitness = proteinWeight * totalValue\n",
    "\n",
    "    finalFitness = fitness if negative else max(1, fitness)\n",
    "    return finalFitness"
   ]
  },
  {
   "cell_type": "code",
   "execution_count": 20,
   "metadata": {},
   "outputs": [],
   "source": [
    "import random \n",
    "\n",
    "def initializePopulation(populationSize: int, chromosomeSize: int, seed: int = None):\n",
    "    population = []\n",
    "\n",
    "    # Set seed\n",
    "    if seed is not None:\n",
    "        random.seed(seed)\n",
    "\n",
    "    # Randomly generate populationSize amount of chromosomes with chromosomeSize size\n",
    "    for i in range(populationSize):\n",
    "        member = [random.randint(0, 1) for i in range(chromosomeSize)]\n",
    "        population.append(member)\n",
    "    \n",
    "    random.seed(None)\n",
    "    \n",
    "    return population"
   ]
  },
  {
   "cell_type": "code",
   "execution_count": 44,
   "metadata": {},
   "outputs": [
    {
     "name": "stdout",
     "output_type": "stream",
     "text": [
      "[0, 0, 1, 0, 0], Fitness 61.0\n",
      "[0, 0, 0, 1, 0], Fitness 80.0\n",
      "[0, 0, 0, 0, 0], Fitness 1\n",
      "[0, 1, 0, 1, 1], Fitness 189.20000000000002\n",
      "[0, 0, 1, 1, 1], Fitness 206.8\n",
      "\n",
      "[0, 0, 1, 1, 1], Fitness 206.8\n",
      "[0, 1, 0, 1, 1], Fitness 189.20000000000002\n",
      "[0, 0, 0, 1, 0], Fitness 80.0\n",
      "[0, 0, 1, 0, 0], Fitness 61.0\n",
      "[0, 0, 0, 0, 0], Fitness 1\n",
      "6\n"
     ]
    }
   ],
   "source": [
    "def sortPopulation(population: list[list], maxWeight: int, negative: bool):\n",
    "    return sorted(population, key=lambda individual: calculateFitness(individual, maxWeight, negative), reverse=True)\n",
    "\n",
    "population = initializePopulation(5, 5, 42)\n",
    "for i in population:\n",
    "    print(f\"{i}, Fitness {calculateFitness(i, 2000, False)}\")\n",
    "print()\n",
    "population = sortPopulation(population, 2000, False)\n",
    "for i in population:\n",
    "    print(f\"{i}, Fitness {calculateFitness(i, 2000, False)}\")\n",
    "\n",
    "print(random.randint(1, 10))"
   ]
  },
  {
   "cell_type": "code",
   "execution_count": 5,
   "metadata": {},
   "outputs": [],
   "source": [
    "def rouletteWheelSelection(population: list[list], maxWeight: int):\n",
    "    total_fitness = 0\n",
    "    fitnesses = []\n",
    "\n",
    "    # Add all fitnesses\n",
    "    for i in population:\n",
    "        # Negative fitness is not allowed\n",
    "        fitness = calculateFitness(i, maxWeight, False)\n",
    "        fitnesses.append(fitness)\n",
    "        total_fitness += fitness\n",
    "\n",
    "    # An individual in the population have fitness / (sum of all fitnesses) chance to be selected in the Roulette Wheel Selection\n",
    "    prob_sum = 0\n",
    "    # Random float as roulette\n",
    "    roulette = random.uniform(0, total_fitness)\n",
    "    for i in range(len(population)):\n",
    "        # If the prob_sum + fitness of the individual exceedes the roulette value, the roulette is in that probability area, so the individual is selected\n",
    "        # Example:\n",
    "        # If we have 5 individuals with fitness values 5, 10, 15, 6, 3 and roulette as 21, the individual with fitness value 15 should be selected.\n",
    "        # In the first iteration of the loop prob_sum would be 5, in the second iteration 15 and in the third iteration it would be 30, exceeding the roulette value\n",
    "        # Third individual from the population would be selected according to this algorithm\n",
    "        prob_sum += fitnesses[i]\n",
    "        if prob_sum > roulette:\n",
    "            return population[i]\n",
    "\n",
    "        "
   ]
  },
  {
   "cell_type": "code",
   "execution_count": 6,
   "metadata": {},
   "outputs": [],
   "source": [
    "def tournamentSelection(population: list[list], tournamentSize: int, maxWeight: int):\n",
    "    # tournamentSize amount of individuals are selected for the tournament\n",
    "    randomIndividuals = random.sample(range(0, len(population)), tournamentSize)\n",
    "    bestFitness = -1\n",
    "    bestIndividual = []\n",
    "    #print(randomIndividuals)\n",
    "    \n",
    "    for i in randomIndividuals:\n",
    "        # Individual with best fitness wins the tournament\n",
    "        # This individual is selected\n",
    "        fitness = calculateFitness(population[i], maxWeight, False)\n",
    "        #print(f\"Individual {i}, fitness {fitness}\")\n",
    "        if fitness > bestFitness:\n",
    "            bestFitness = fitness\n",
    "            bestIndividual = i\n",
    "    return population[bestIndividual]\n"
   ]
  },
  {
   "cell_type": "code",
   "execution_count": 7,
   "metadata": {},
   "outputs": [
    {
     "name": "stdout",
     "output_type": "stream",
     "text": [
      "[0, 0, 0, 1, 1]\n"
     ]
    }
   ],
   "source": [
    "population = initializePopulation(10, 5)\n",
    "\n",
    "bestIndividual = tournamentSelection(population, 4, 2500)\n",
    "print(bestIndividual)"
   ]
  },
  {
   "cell_type": "code",
   "execution_count": 8,
   "metadata": {},
   "outputs": [
    {
     "name": "stdout",
     "output_type": "stream",
     "text": [
      "[1, 1, 0, 0, 0] 102.19999999999999\n",
      "[1, 0, 1, 1, 0] 199.8\n",
      "[1, 0, 0, 0, 1] 124.60000000000001\n",
      "[1, 1, 0, 1, 1] 247.99999999999997\n",
      "[0, 1, 0, 1, 0] 123.4\n",
      "[1, 1, 0, 0, 0] 102.19999999999999\n",
      "[1, 0, 1, 1, 1] 265.6\n",
      "[0, 1, 1, 0, 1] 170.2\n",
      "[1, 0, 1, 1, 1] 265.6\n",
      "[0, 1, 1, 0, 0] 104.39999999999999\n",
      "\n",
      "[1, 1, 0, 0, 0]\n"
     ]
    }
   ],
   "source": [
    "population = initializePopulation(10, 5)\n",
    "for i in range(len((population))):\n",
    "    print(population[i], calculateFitness(population[i], 2500, False))\n",
    "\n",
    "print()\n",
    "selected = rouletteWheelSelection(population, 2500)\n",
    "print(selected)"
   ]
  },
  {
   "cell_type": "code",
   "execution_count": 9,
   "metadata": {},
   "outputs": [],
   "source": [
    "import random\n",
    "\n",
    "def singlePointCrossover(firstParent: list, secondParent: list):\n",
    "\n",
    "   # Selects a random crossover point\n",
    "   crossOverPoint = random.randint(1, len(firstParent) - 1)\n",
    "\n",
    "   # Selects the crossover parts from parents (From random point to end of the chromosome)\n",
    "   crossOverPart1 = firstParent[crossOverPoint: len(firstParent)]\n",
    "   crossOverPart2 = secondParent[crossOverPoint: len(secondParent)]\n",
    "\n",
    "   firstOffspring = firstParent\n",
    "   secondOffspring = secondParent\n",
    "\n",
    "   # Swaps the crossover parts between parents\n",
    "   firstOffspring[crossOverPoint: len(firstParent)] = crossOverPart2\n",
    "   secondOffspring[crossOverPoint: len(secondParent)] = crossOverPart1\n",
    "\n",
    "   return [firstOffspring, secondOffspring]"
   ]
  },
  {
   "cell_type": "code",
   "execution_count": 10,
   "metadata": {},
   "outputs": [
    {
     "name": "stdout",
     "output_type": "stream",
     "text": [
      "[[0, 0, 1, 1, 0, 1], [1, 1, 0, 0, 0, 1]]\n"
     ]
    }
   ],
   "source": [
    "firstParent = [0, 0 , 1, 1, 0, 1]\n",
    "secondParent = [1, 1, 0, 0, 0, 1]\n",
    "\n",
    "offsprings = singlePointCrossover(firstParent, secondParent)\n",
    "print(offsprings)"
   ]
  },
  {
   "cell_type": "code",
   "execution_count": 11,
   "metadata": {},
   "outputs": [],
   "source": [
    "def multiplePointCrossover(firstParent: list, secondParent: list):\n",
    "    # Selects two random crossover points\n",
    "    firstCrossOverPoint = random.randint(1, len(firstParent) - 1)\n",
    "    secondCrossOverPoint = random.randint(1, len(secondParent) - 1)\n",
    "\n",
    "    # Change the crossover point if the points are same\n",
    "    while (firstCrossOverPoint == secondCrossOverPoint):\n",
    "        secondCrossOverPoint = random.randint(1, len(firstParent) - 1)\n",
    "    \n",
    "    # If the first crossover point is at the right of the second crossover point swap the points\n",
    "    if (firstCrossOverPoint > secondCrossOverPoint):\n",
    "        firstCrossOverPoint, secondCrossOverPoint = secondCrossOverPoint, firstCrossOverPoint\n",
    "    \n",
    "    # Select the crossover parts from point1 to point2\n",
    "    crossOverPart1 = firstParent[firstCrossOverPoint: secondCrossOverPoint + 1]\n",
    "    crossOverPart2 = secondParent[firstCrossOverPoint: secondCrossOverPoint + 1]\n",
    "\n",
    "    firstOffspring = firstParent\n",
    "    secondOffspring = secondParent\n",
    "\n",
    "    # Swap the crossover parts between parents\n",
    "    firstOffspring[firstCrossOverPoint: secondCrossOverPoint + 1] = crossOverPart2\n",
    "    secondOffspring[firstCrossOverPoint: secondCrossOverPoint + 1] = crossOverPart1\n",
    "\n",
    "    return [firstOffspring, secondOffspring]\n",
    "\n",
    "    \n"
   ]
  },
  {
   "cell_type": "code",
   "execution_count": 12,
   "metadata": {},
   "outputs": [
    {
     "name": "stdout",
     "output_type": "stream",
     "text": [
      "[[0, 0, 0, 0, 0, 1], [1, 1, 1, 1, 0, 1]]\n"
     ]
    }
   ],
   "source": [
    "firstParent = [0, 0 , 1, 1, 0, 1]\n",
    "secondParent = [1, 1, 0, 0, 0, 1]\n",
    "\n",
    "offsprings = multiplePointCrossover(firstParent, secondParent)\n",
    "print(offsprings)"
   ]
  },
  {
   "cell_type": "code",
   "execution_count": 13,
   "metadata": {},
   "outputs": [],
   "source": [
    "def uniformCrossover(firstParent: list, secondParent: list, maxWeight: int):\n",
    "    firstFitness = calculateFitness(firstParent, maxWeight, True)\n",
    "    secondFitness = calculateFitness(secondParent, maxWeight, True)\n",
    "\n",
    "    minFitness = min(firstFitness, secondFitness)\n",
    "    if minFitness <= 0:\n",
    "        shift = abs(minFitness) + 1\n",
    "        firstFitness += shift\n",
    "        secondFitness += shift\n",
    "\n",
    "    # Probability in the uniform crossover is fp_1 / (fp_1 + fp_2), where fp_1 is the fitness of the first parent and fp_2 is the fitness of the second parent\n",
    "    probability = firstFitness / (firstFitness + secondFitness)\n",
    "\n",
    "    firstOffspring = []\n",
    "    secondOffspring = []\n",
    "    i = 0\n",
    "    length = len(firstParent)\n",
    "    while (len(firstOffspring) != length):\n",
    "        randomProb = random.random()\n",
    "        # First chromosome have the chance fp_1 / (fp_1 + fp_2) to the get the gene from first parent.\n",
    "        # If the probability is higher than the random value, first offspring gets the gene from first parent\n",
    "        # This repeats for all of the genes (length of the chromosome)\n",
    "        if (randomProb < probability):\n",
    "            firstOffspring.append(firstParent[i])\n",
    "            secondOffspring.append(secondParent[i])\n",
    "        else:\n",
    "            firstOffspring.append(secondParent[i])\n",
    "            secondOffspring.append(firstParent[i])\n",
    "        i += 1\n",
    "\n",
    "    return [firstOffspring, secondOffspring]\n",
    "\n"
   ]
  },
  {
   "cell_type": "code",
   "execution_count": 14,
   "metadata": {},
   "outputs": [
    {
     "name": "stdout",
     "output_type": "stream",
     "text": [
      "[[1, 0, 1, 0, 0, 1], [0, 1, 0, 1, 0, 1]]\n"
     ]
    }
   ],
   "source": [
    "firstParent = [0, 0 , 1, 1, 0, 1]\n",
    "secondParent = [1, 1, 0, 0, 0, 1]\n",
    "\n",
    "offsprings = uniformCrossover(firstParent, secondParent, 1000)\n",
    "print(offsprings)"
   ]
  },
  {
   "cell_type": "code",
   "execution_count": 15,
   "metadata": {},
   "outputs": [],
   "source": [
    "def mutation(chromosome: list, rate: int):\n",
    "    mutationsRate = 1 / rate\n",
    "    for i in range(len(chromosome)):\n",
    "        # random.random() generates a float between 0 and 1\n",
    "        # If this number is less than or equal to mutation rate there is a bit flip in that gene (mutation occurs)\n",
    "        if random.random() <= mutationsRate:\n",
    "            chromosome[i] = 1 - chromosome[i]\n",
    "    return chromosome"
   ]
  },
  {
   "cell_type": "code",
   "execution_count": 16,
   "metadata": {},
   "outputs": [
    {
     "name": "stdout",
     "output_type": "stream",
     "text": [
      "[1, 0, 1, 1, 1, 0, 1]\n"
     ]
    }
   ],
   "source": [
    "chromosome = [0, 0, 1, 1, 1, 0, 1]\n",
    "print(mutation(chromosome, 10))"
   ]
  },
  {
   "cell_type": "code",
   "execution_count": 45,
   "metadata": {},
   "outputs": [
    {
     "data": {
      "image/png": "[encoded data removed]",
      "text/plain": [
       "<Figure size 640x480 with 1 Axes>"
      ]
     },
     "metadata": {},
     "output_type": "display_data"
    }
   ],
   "source": [
    "import numpy as np\n",
    "import matplotlib.pyplot as plt\n",
    "\n",
    "populationSize = 100\n",
    "chromosomeSize = 100\n",
    "seed = 42\n",
    "population = initializePopulation(populationSize, chromosomeSize, seed)\n",
    "\n",
    "def geneticAlgorithm(population: list[list], maxWeight: int, generations: int, elitSize: int):\n",
    "    meanFitness = []\n",
    "    fitnessList = [calculateFitness(i, maxWeight, True) for i in population]\n",
    "    mean = np.mean(fitnessList)\n",
    "    meanFitness.append(mean)\n",
    "\n",
    "    for i in range(generations):\n",
    "        sortedPopulation = sortPopulation(population, maxWeight, True)\n",
    "        new_population = sortedPopulation[:elitSize]\n",
    "        while len(new_population) != len(population):\n",
    "            \n",
    "            firstIndividual = tournamentSelection(population, 2, maxWeight)\n",
    "            secondIndividual = tournamentSelection(population, 2, maxWeight)\n",
    "        \n",
    "            #firstIndividual = rouletteWheelSelection(population, maxWeight)\n",
    "            #secondIndividual = rouletteWheelSelection(population, maxWeight)\n",
    "            \n",
    "            #offsprings = singlePointCrossover(firstIndividual, secondIndividual)\n",
    "            offsprings = uniformCrossover(firstIndividual, secondIndividual, maxWeight)\n",
    "            #offsprings = multiplePointCrossover(firstIndividual, secondIndividual)\n",
    "            offsprings[0] = mutation(offsprings[0], len(offsprings[0]))\n",
    "            offsprings[1] = mutation(offsprings[1], len(offsprings[1]))\n",
    "\n",
    "            new_population.extend(offsprings)\n",
    "\n",
    "        population = new_population\n",
    "        #print(f\"Generation {i}\")\n",
    "        #print(population)\n",
    "\n",
    "        fitnessList = [calculateFitness(i, maxWeight, True) for i in population]\n",
    "        mean = np.mean(fitnessList)\n",
    "        meanFitness.append(mean)\n",
    "\n",
    "    x = np.arange(0, generations + 1)\n",
    "    plt.plot(x, meanFitness)\n",
    "    plt.title(\"Mean Fitness over iterations\")\n",
    "    plt.xlabel(\"Iteration\")\n",
    "    plt.ylabel(\"Mean Fitness\")\n",
    "    return population\n",
    "\n",
    "maxWeight = 20000\n",
    "generations = 100\n",
    "elitismSize = 2\n",
    "new = geneticAlgorithm(population, maxWeight, generations, elitismSize)\n"
   ]
  },
  {
   "cell_type": "code",
   "execution_count": 46,
   "metadata": {},
   "outputs": [
    {
     "name": "stdout",
     "output_type": "stream",
     "text": [
      "Fitness 5372.7, calorie 19974.0, protein 537.27\n",
      "Fitness 5362.5, calorie 19912.0, protein 536.25\n",
      "Fitness 5351.1, calorie 19974.0, protein 535.11\n",
      "Fitness 5344.8, calorie 19872.0, protein 534.48\n",
      "Fitness 5300.8, calorie 19590.0, protein 530.08\n",
      "Fitness 5292.7, calorie 19742.0, protein 529.27\n",
      "Fitness 5264.8, calorie 20016.0, protein 532.88\n",
      "Fitness 5258.700000000001, calorie 19878.0, protein 525.8700000000001\n",
      "Fitness 5251.599999999999, calorie 19153.0, protein 525.16\n",
      "Fitness 5244.9, calorie 19806.0, protein 524.49\n",
      "Fitness 5230.799999999999, calorie 19192.0, protein 523.0799999999999\n",
      "Fitness 5230.1, calorie 19460.0, protein 523.01\n",
      "Fitness 5229.700000000001, calorie 19495.0, protein 522.97\n",
      "Fitness 5222.7, calorie 19518.0, protein 522.27\n",
      "Fitness 5218.6, calorie 19550.0, protein 521.86\n",
      "Fitness 5216.799999999999, calorie 19788.0, protein 521.68\n",
      "Fitness 5216.599999999999, calorie 18917.0, protein 521.66\n",
      "Fitness 5193.400000000001, calorie 19592.0, protein 519.34\n",
      "Fitness 5190.900000000001, calorie 19481.0, protein 519.09\n",
      "Fitness 5190.0, calorie 19021.0, protein 519.0\n",
      "Fitness 5179.0, calorie 19095.0, protein 517.9\n",
      "Fitness 5178.6, calorie 19357.0, protein 517.86\n",
      "Fitness 5174.700000000001, calorie 19010.0, protein 517.47\n",
      "Fitness 5174.000000000001, calorie 19015.0, protein 517.4000000000001\n",
      "Fitness 5171.799999999999, calorie 19203.0, protein 517.18\n",
      "Fitness 5167.6, calorie 19401.0, protein 516.76\n",
      "Fitness 5166.3, calorie 19073.0, protein 516.63\n",
      "Fitness 5163.5999999999985, calorie 19467.0, protein 516.3599999999999\n",
      "Fitness 5155.299999999999, calorie 19350.0, protein 515.53\n",
      "Fitness 5136.3, calorie 19306.0, protein 513.63\n",
      "Fitness 5135.1, calorie 19371.0, protein 513.51\n",
      "Fitness 5133.400000000001, calorie 19648.0, protein 513.34\n",
      "Fitness 5122.7, calorie 18880.0, protein 512.27\n",
      "Fitness 5119.999999999999, calorie 18975.0, protein 511.99999999999994\n",
      "Fitness 5111.2, calorie 18860.0, protein 511.11999999999995\n",
      "Fitness 5104.4, calorie 19038.0, protein 510.44\n",
      "Fitness 5101.7, calorie 19270.0, protein 510.16999999999996\n",
      "Fitness 5099.7, calorie 19201.0, protein 509.96999999999997\n",
      "Fitness 5097.565910405928, calorie 20021.0, protein 519.38\n",
      "Fitness 5097.5, calorie 19734.0, protein 509.75\n",
      "Fitness 5087.0, calorie 19604.0, protein 508.7\n",
      "Fitness 5086.4, calorie 18527.0, protein 508.63999999999993\n",
      "Fitness 5082.699999999999, calorie 18649.0, protein 508.2699999999999\n",
      "Fitness 5078.7, calorie 19608.0, protein 507.86999999999995\n",
      "Fitness 5063.0, calorie 19689.0, protein 506.29999999999995\n",
      "Fitness 5059.499999999999, calorie 18639.0, protein 505.94999999999993\n",
      "Fitness 5054.799999999999, calorie 18727.0, protein 505.4799999999999\n",
      "Fitness 5050.999999999999, calorie 19918.0, protein 505.0999999999999\n",
      "Fitness 5042.799999999998, calorie 18875.0, protein 504.27999999999986\n",
      "Fitness 5036.599999999999, calorie 18877.0, protein 503.65999999999997\n",
      "Fitness 5030.4, calorie 19496.0, protein 503.03999999999996\n",
      "Fitness 5030.2, calorie 18690.0, protein 503.02\n",
      "Fitness 5028.8, calorie 18773.0, protein 502.88000000000005\n",
      "Fitness 5025.099999999999, calorie 18530.0, protein 502.50999999999993\n",
      "Fitness 5013.4, calorie 18278.0, protein 501.34\n",
      "Fitness 5012.5, calorie 18353.0, protein 501.25\n",
      "Fitness 4995.400000000001, calorie 18332.0, protein 499.54\n",
      "Fitness 4994.300000000001, calorie 17987.0, protein 499.43000000000006\n",
      "Fitness 4990.599999999999, calorie 18349.0, protein 499.05999999999995\n",
      "Fitness 4987.899999999999, calorie 18554.0, protein 498.7899999999999\n",
      "Fitness 4979.699999999999, calorie 18137.0, protein 497.9699999999999\n",
      "Fitness 4972.3, calorie 19669.0, protein 497.23\n",
      "Fitness 4966.4, calorie 18626.0, protein 496.63999999999993\n",
      "Fitness 4965.499999999999, calorie 18637.0, protein 496.5499999999999\n",
      "Fitness 4964.700000000001, calorie 18266.0, protein 496.47\n",
      "Fitness 4959.2, calorie 18302.0, protein 495.91999999999996\n",
      "Fitness 4955.299999999999, calorie 18414.0, protein 495.53\n",
      "Fitness 4947.200000000001, calorie 18815.0, protein 494.72\n",
      "Fitness 4945.5, calorie 17999.0, protein 494.54999999999995\n",
      "Fitness 4933.6, calorie 19210.0, protein 493.36000000000007\n",
      "Fitness 4919.999999999999, calorie 17994.0, protein 491.99999999999994\n",
      "Fitness 4917.030823037528, calorie 20045.0, protein 521.89\n",
      "Fitness 4898.199999999999, calorie 18120.0, protein 489.81999999999994\n",
      "Fitness 4860.299999999999, calorie 18084.0, protein 486.0299999999999\n",
      "Fitness 4836.7, calorie 17422.0, protein 483.67\n",
      "Fitness 4830.3, calorie 18288.0, protein 483.03000000000003\n",
      "Fitness 4823.799999999999, calorie 18857.0, protein 482.37999999999994\n",
      "Fitness 4813.5, calorie 19431.0, protein 481.35\n",
      "Fitness 4812.4, calorie 17834.0, protein 481.23999999999995\n",
      "Fitness 4796.6, calorie 20064.0, protein 530.86\n",
      "Fitness 4791.099999999999, calorie 18311.0, protein 479.10999999999996\n",
      "Fitness 4781.499999999999, calorie 17359.0, protein 478.1499999999999\n",
      "Fitness 4760.699999999999, calorie 18489.0, protein 476.0699999999999\n",
      "Fitness 4687.037981426147, calorie 20070.0, protein 527.27\n",
      "Fitness 4683.474769769693, calorie 20061.0, protein 515.9899999999999\n",
      "Fitness 4505.499999999999, calorie 18126.0, protein 450.5499999999999\n",
      "Fitness 3059.440266231898, calorie 20173.0, protein 533.49\n",
      "Fitness 2465.927482432717, calorie 20191.0, protein 510.56000000000006\n",
      "Fitness 2116.0479612235367, calorie 20211.0, protein 518.1\n",
      "Fitness 28.845176557860214, calorie 20301.0, protein 525.0999999999999\n",
      "Fitness -1149.6580506020227, calorie 20349.0, protein 537.02\n",
      "Fitness -1340.1125069029558, calorie 20355.0, protein 534.8599999999999\n",
      "Fitness -3572.794359556976, calorie 20424.0, protein 515.79\n",
      "Fitness -4083.7178638973346, calorie 20440.0, protein 514.5799999999999\n",
      "Fitness -11644.736757275636, calorie 20662.0, protein 538.8100000000001\n",
      "Fitness -16225.758606189755, calorie 20776.0, protein 539.11\n",
      "Fitness -21326.80118915345, calorie 20892.0, protein 531.4\n",
      "Fitness -24267.07527106555, calorie 20953.0, protein 515.2699999999999\n",
      "Fitness -41863.59769318572, calorie 21308.0, protein 544.19\n",
      "Fitness -67710.01178481005, calorie 21749.0, protein 543.5\n"
     ]
    },
    {
     "data": {
      "text/plain": [
       "'\\nprint(sortedNew[0])\\nfor i, value in enumerate(sortedNew[0]):\\n    if value == 1:\\n        print(f\"Name: {df.iloc[i][\\'Name\\']}, Protein (g): {df.iloc[i][\\'Protein (g)\\']}, Calories: {df.iloc[i][\\'Calories\\']}\")\\n'"
      ]
     },
     "execution_count": 46,
     "metadata": {},
     "output_type": "execute_result"
    }
   ],
   "source": [
    "sortedNew = sortPopulation(new, maxWeight, True)\n",
    "\n",
    "for i in sortedNew:\n",
    "    fitness = calculateFitness(i, maxWeight, True)\n",
    "    totalWeight = 0\n",
    "    totalProtein = 0\n",
    "    \n",
    "    for j in range(len(i)):\n",
    "        if i[j]:  \n",
    "            protein = df.iloc[j]['Protein (g)']\n",
    "            weight = df.iloc[j]['Calories']\n",
    "            totalProtein += protein\n",
    "            totalWeight += weight\n",
    "\n",
    "    print(f\"Fitness {fitness}, calorie {totalWeight}, protein {totalProtein}\")\n",
    "\n",
    "\"\"\"\n",
    "print(sortedNew[0])\n",
    "for i, value in enumerate(sortedNew[0]):\n",
    "    if value == 1:\n",
    "        print(f\"Name: {df.iloc[i]['Name']}, Protein (g): {df.iloc[i]['Protein (g)']}, Calories: {df.iloc[i]['Calories']}\")\n",
    "\"\"\""
   ]
  }
 ],
 "metadata": {
  "kernelspec": {
   "display_name": "Python 3",
   "language": "python",
   "name": "python3"
  },
  "language_info": {
   "codemirror_mode": {
    "name": "ipython",
    "version": 3
   },
   "file_extension": ".py",
   "mimetype": "text/x-python",
   "name": "python",
   "nbconvert_exporter": "python",
   "pygments_lexer": "ipython3",
   "version": "3.10.7"
  }
 },
 "nbformat": 4,
 "nbformat_minor": 2
}
