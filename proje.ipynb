{
 "cells": [
  {
   "cell_type": "code",
   "execution_count": 135,
   "metadata": {},
   "outputs": [],
   "source": [
    "import random\n",
    "\n",
    "def singlePointCrossover(firstParent: list, secondParent: list):\n",
    "\n",
    "   crossOverPoint = random.randint(1, len(firstParent) - 1)\n",
    "   print(crossOverPoint)\n",
    "   crossOverPart1 = firstParent[crossOverPoint: len(firstParent)]\n",
    "   crossOverPart2 = secondParent[crossOverPoint: len(secondParent)]\n",
    "\n",
    "   print(crossOverPart1)\n",
    "   print(crossOverPart2)\n",
    "\n",
    "   firstOffSpring = firstParent\n",
    "   secondOffSpring = secondParent\n",
    "\n",
    "   firstOffSpring[crossOverPoint: len(firstParent)] = crossOverPart2\n",
    "   secondOffSpring[crossOverPoint: len(secondParent)] = crossOverPart1\n",
    "\n",
    "   print(firstOffSpring)\n",
    "   print(secondOffSpring)\n",
    "\n",
    "\n"
   ]
  },
  {
   "cell_type": "code",
   "execution_count": 138,
   "metadata": {},
   "outputs": [
    {
     "name": "stdout",
     "output_type": "stream",
     "text": [
      "1\n",
      "[0, 1, 1, 0, 1]\n",
      "[1, 0, 0, 0, 1]\n",
      "[0, 1, 0, 0, 0, 1]\n",
      "[1, 0, 1, 1, 0, 1]\n"
     ]
    }
   ],
   "source": [
    "firstParent = [0, 0 , 1, 1, 0, 1]\n",
    "secondParent = [1, 1, 0, 0, 0, 1]\n",
    "\n",
    "singlePointCrossover(firstParent, secondParent)"
   ]
  },
  {
   "cell_type": "code",
   "execution_count": 139,
   "metadata": {},
   "outputs": [],
   "source": [
    "def multiplePointCrossover(firstParent: list, secondParent: list):\n",
    "    firstCrossOverPoint = random.randint(1, len(firstParent) - 1)\n",
    "    secondCrossOverPoint = random.randint(1, len(secondParent) - 1)\n",
    "\n",
    "    while (firstCrossOverPoint == secondCrossOverPoint):\n",
    "        secondCrossOverPoint = random.randint(1, len(firstParent) - 1)\n",
    "    \n",
    "    if (firstCrossOverPoint > secondCrossOverPoint):\n",
    "        firstCrossOverPoint, secondCrossOverPoint = secondCrossOverPoint, firstCrossOverPoint\n",
    "    \n",
    "    print(firstCrossOverPoint)\n",
    "    print(secondCrossOverPoint)\n",
    "\n",
    "    crossOverPart1 = firstParent[firstCrossOverPoint: secondCrossOverPoint + 1]\n",
    "    crossOverPart2 = secondParent[firstCrossOverPoint: secondCrossOverPoint + 1]\n",
    "\n",
    "    print(crossOverPart1)\n",
    "    print(crossOverPart2)\n",
    "\n",
    "    firstOffSpring = firstParent\n",
    "    secondOffSpring = secondParent\n",
    "\n",
    "    firstOffSpring[firstCrossOverPoint: secondCrossOverPoint + 1] = crossOverPart2\n",
    "    secondOffSpring[firstCrossOverPoint: secondCrossOverPoint + 1] = crossOverPart1\n",
    "\n",
    "    print(firstOffSpring)\n",
    "    print(secondOffSpring)\n",
    "\n",
    "    \n"
   ]
  },
  {
   "cell_type": "code",
   "execution_count": 141,
   "metadata": {},
   "outputs": [
    {
     "name": "stdout",
     "output_type": "stream",
     "text": [
      "1\n",
      "4\n",
      "[0, 1, 1, 0]\n",
      "[1, 0, 0, 0]\n",
      "[0, 1, 0, 0, 0, 1]\n",
      "[1, 0, 1, 1, 0, 1]\n"
     ]
    }
   ],
   "source": [
    "firstParent = [0, 0 , 1, 1, 0, 1]\n",
    "secondParent = [1, 1, 0, 0, 0, 1]\n",
    "\n",
    "multiplePointCrossover(firstParent, secondParent)"
   ]
  }
 ],
 "metadata": {
  "kernelspec": {
   "display_name": "Python 3",
   "language": "python",
   "name": "python3"
  },
  "language_info": {
   "codemirror_mode": {
    "name": "ipython",
    "version": 3
   },
   "file_extension": ".py",
   "mimetype": "text/x-python",
   "name": "python",
   "nbconvert_exporter": "python",
   "pygments_lexer": "ipython3",
   "version": "3.10.7"
  }
 },
 "nbformat": 4,
 "nbformat_minor": 2
}
