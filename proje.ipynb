{
 "cells": [
  {
   "cell_type": "code",
   "execution_count": 13,
   "metadata": {},
   "outputs": [],
   "source": [
    "import pandas as pd\n",
    "\n",
    "df = pd.read_excel(\"MyFoodData.xlsx\")"
   ]
  },
  {
   "cell_type": "code",
   "execution_count": 14,
   "metadata": {},
   "outputs": [
    {
     "data": {
      "text/html": [
       "<div>\n",
       "<style scoped>\n",
       "    .dataframe tbody tr th:only-of-type {\n",
       "        vertical-align: middle;\n",
       "    }\n",
       "\n",
       "    .dataframe tbody tr th {\n",
       "        vertical-align: top;\n",
       "    }\n",
       "\n",
       "    .dataframe thead th {\n",
       "        text-align: right;\n",
       "    }\n",
       "</style>\n",
       "<table border=\"1\" class=\"dataframe\">\n",
       "  <thead>\n",
       "    <tr style=\"text-align: right;\">\n",
       "      <th></th>\n",
       "      <th>Name</th>\n",
       "      <th>Calories</th>\n",
       "      <th>Protein (g)</th>\n",
       "    </tr>\n",
       "  </thead>\n",
       "  <tbody>\n",
       "    <tr>\n",
       "      <th>0</th>\n",
       "      <td>Pillsbury Golden Layer Buttermilk Biscuits Art...</td>\n",
       "      <td>307.0</td>\n",
       "      <td>5.88</td>\n",
       "    </tr>\n",
       "    <tr>\n",
       "      <th>1</th>\n",
       "      <td>Pillsbury Cinnamon Rolls With Icing Refrigerat...</td>\n",
       "      <td>330.0</td>\n",
       "      <td>4.34</td>\n",
       "    </tr>\n",
       "    <tr>\n",
       "      <th>2</th>\n",
       "      <td>Kraft Foods Shake N Bake Original Recipe Coati...</td>\n",
       "      <td>377.0</td>\n",
       "      <td>6.10</td>\n",
       "    </tr>\n",
       "    <tr>\n",
       "      <th>3</th>\n",
       "      <td>George Weston Bakeries Thomas English Muffins</td>\n",
       "      <td>232.0</td>\n",
       "      <td>8.00</td>\n",
       "    </tr>\n",
       "    <tr>\n",
       "      <th>4</th>\n",
       "      <td>Waffles Buttermilk Frozen Ready-To-Heat</td>\n",
       "      <td>273.0</td>\n",
       "      <td>6.58</td>\n",
       "    </tr>\n",
       "  </tbody>\n",
       "</table>\n",
       "</div>"
      ],
      "text/plain": [
       "                                                Name  Calories  Protein (g)\n",
       "0  Pillsbury Golden Layer Buttermilk Biscuits Art...     307.0         5.88\n",
       "1  Pillsbury Cinnamon Rolls With Icing Refrigerat...     330.0         4.34\n",
       "2  Kraft Foods Shake N Bake Original Recipe Coati...     377.0         6.10\n",
       "3      George Weston Bakeries Thomas English Muffins     232.0         8.00\n",
       "4            Waffles Buttermilk Frozen Ready-To-Heat     273.0         6.58"
      ]
     },
     "execution_count": 14,
     "metadata": {},
     "output_type": "execute_result"
    }
   ],
   "source": [
    "df = df.filter(items = [\"Name\", \"Calories\", \"Protein (g)\"])\n",
    "df.head()"
   ]
  },
  {
   "cell_type": "code",
   "execution_count": 15,
   "metadata": {},
   "outputs": [],
   "source": [
    "def calculateFitness(chromosome: list, maxWeight: int):\n",
    "    totalValue = 0\n",
    "    totalWeight = 0\n",
    "\n",
    "    for i in range(len(chromosome)):\n",
    "        if chromosome[i]:\n",
    "            value = df.iloc[i]['Protein (g)']\n",
    "            totalValue += value\n",
    "            \n",
    "            weight = df.iloc[i]['Calories']\n",
    "            totalWeight += weight\n",
    "    \n",
    "    penalty = 0.5\n",
    "    fitness = totalValue - (totalWeight - maxWeight) * penalty\n",
    "\n",
    "    return max(0, fitness)\n",
    "    "
   ]
  },
  {
   "cell_type": "code",
   "execution_count": 16,
   "metadata": {},
   "outputs": [],
   "source": [
    "import random\n",
    "\n",
    "def singlePointCrossover(firstParent: list, secondParent: list):\n",
    "\n",
    "   crossOverPoint = random.randint(1, len(firstParent) - 1)\n",
    "   print(crossOverPoint)\n",
    "   crossOverPart1 = firstParent[crossOverPoint: len(firstParent)]\n",
    "   crossOverPart2 = secondParent[crossOverPoint: len(secondParent)]\n",
    "\n",
    "   print(crossOverPart1)\n",
    "   print(crossOverPart2)\n",
    "\n",
    "   firstOffSpring = firstParent\n",
    "   secondOffSpring = secondParent\n",
    "\n",
    "   firstOffSpring[crossOverPoint: len(firstParent)] = crossOverPart2\n",
    "   secondOffSpring[crossOverPoint: len(secondParent)] = crossOverPart1\n",
    "\n",
    "   print(firstOffSpring)\n",
    "   print(secondOffSpring)"
   ]
  },
  {
   "cell_type": "code",
   "execution_count": 17,
   "metadata": {},
   "outputs": [
    {
     "name": "stdout",
     "output_type": "stream",
     "text": [
      "5\n",
      "[1]\n",
      "[1]\n",
      "[0, 0, 1, 1, 0, 1]\n",
      "[1, 1, 0, 0, 0, 1]\n"
     ]
    }
   ],
   "source": [
    "firstParent = [0, 0 , 1, 1, 0, 1]\n",
    "secondParent = [1, 1, 0, 0, 0, 1]\n",
    "\n",
    "singlePointCrossover(firstParent, secondParent)"
   ]
  },
  {
   "cell_type": "code",
   "execution_count": 18,
   "metadata": {},
   "outputs": [],
   "source": [
    "def multiplePointCrossover(firstParent: list, secondParent: list):\n",
    "    firstCrossOverPoint = random.randint(1, len(firstParent) - 1)\n",
    "    secondCrossOverPoint = random.randint(1, len(secondParent) - 1)\n",
    "\n",
    "    while (firstCrossOverPoint == secondCrossOverPoint):\n",
    "        secondCrossOverPoint = random.randint(1, len(firstParent) - 1)\n",
    "    \n",
    "    if (firstCrossOverPoint > secondCrossOverPoint):\n",
    "        firstCrossOverPoint, secondCrossOverPoint = secondCrossOverPoint, firstCrossOverPoint\n",
    "    \n",
    "    print(firstCrossOverPoint)\n",
    "    print(secondCrossOverPoint)\n",
    "\n",
    "    crossOverPart1 = firstParent[firstCrossOverPoint: secondCrossOverPoint + 1]\n",
    "    crossOverPart2 = secondParent[firstCrossOverPoint: secondCrossOverPoint + 1]\n",
    "\n",
    "    print(crossOverPart1)\n",
    "    print(crossOverPart2)\n",
    "\n",
    "    firstOffSpring = firstParent\n",
    "    secondOffSpring = secondParent\n",
    "\n",
    "    firstOffSpring[firstCrossOverPoint: secondCrossOverPoint + 1] = crossOverPart2\n",
    "    secondOffSpring[firstCrossOverPoint: secondCrossOverPoint + 1] = crossOverPart1\n",
    "\n",
    "    print(firstOffSpring)\n",
    "    print(secondOffSpring)\n",
    "\n",
    "    \n"
   ]
  },
  {
   "cell_type": "code",
   "execution_count": 19,
   "metadata": {},
   "outputs": [
    {
     "name": "stdout",
     "output_type": "stream",
     "text": [
      "1\n",
      "3\n",
      "[0, 1, 1]\n",
      "[1, 0, 0]\n",
      "[0, 1, 0, 0, 0, 1]\n",
      "[1, 0, 1, 1, 0, 1]\n"
     ]
    }
   ],
   "source": [
    "firstParent = [0, 0 , 1, 1, 0, 1]\n",
    "secondParent = [1, 1, 0, 0, 0, 1]\n",
    "\n",
    "multiplePointCrossover(firstParent, secondParent)"
   ]
  },
  {
   "cell_type": "code",
   "execution_count": 20,
   "metadata": {},
   "outputs": [],
   "source": [
    "def uniformCrossover(firstParent: list, secondParent: list, maxWeight: int):\n",
    "    firstFitness = calculateFitness(firstParent, maxWeight)\n",
    "    secondFitness = calculateFitness(secondParent, maxWeight)\n",
    "    print(firstFitness, secondFitness)\n",
    "\n",
    "    probability = firstFitness / (firstFitness + secondFitness)\n",
    "    print(probability)\n",
    "\n",
    "    firstOffSpring = []\n",
    "    secondOffSpring = []\n",
    "    i = 0\n",
    "\n",
    "    while (len(firstOffSpring) != len(firstParent)):\n",
    "        randomProb = random.random()\n",
    "        if (randomProb < probability):\n",
    "            firstOffSpring.append(firstParent[i])\n",
    "            secondOffSpring.append(secondParent[i])\n",
    "        else:\n",
    "            firstOffSpring.append(secondParent[i])\n",
    "            secondOffSpring.append(firstParent[i])\n",
    "        i += 1\n",
    "    \n",
    "    print(firstOffSpring)\n",
    "    print(secondOffSpring)\n",
    "\n"
   ]
  },
  {
   "cell_type": "code",
   "execution_count": 21,
   "metadata": {},
   "outputs": [
    {
     "name": "stdout",
     "output_type": "stream",
     "text": [
      "62.519999999999996 44.64\n",
      "0.5834266517357223\n",
      "[1, 1, 0, 0, 0, 1]\n",
      "[0, 0, 1, 1, 0, 1]\n"
     ]
    }
   ],
   "source": [
    "firstParent = [0, 0 , 1, 1, 0, 1]\n",
    "secondParent = [1, 1, 0, 0, 0, 1]\n",
    "\n",
    "uniformCrossover(firstParent, secondParent, 1000)"
   ]
  },
  {
   "cell_type": "code",
   "execution_count": 22,
   "metadata": {},
   "outputs": [],
   "source": [
    "import random \n",
    "\n",
    "def initializePopulation(populationSize: int, chromosomeSize: int):\n",
    "    population = []\n",
    "\n",
    "    for i in range(populationSize):\n",
    "        member = [random.randint(0, 1) for i in range(chromosomeSize)]\n",
    "        population.append(member)\n",
    "       \n",
    "    return population"
   ]
  },
  {
   "cell_type": "code",
   "execution_count": 23,
   "metadata": {},
   "outputs": [
    {
     "name": "stdout",
     "output_type": "stream",
     "text": [
      "[[1, 1, 0, 1, 0, 0, 0, 1, 1, 1], [1, 0, 1, 0, 0, 0, 1, 0, 1, 1], [1, 0, 1, 1, 0, 1, 1, 1, 1, 1], [0, 1, 1, 0, 0, 0, 1, 0, 1, 0], [0, 0, 1, 1, 1, 0, 1, 1, 1, 1], [1, 1, 0, 1, 0, 1, 1, 1, 1, 0], [1, 0, 0, 0, 1, 0, 1, 0, 0, 1], [1, 0, 0, 1, 1, 1, 0, 1, 1, 0], [0, 1, 0, 0, 0, 0, 1, 0, 0, 0], [1, 1, 0, 1, 0, 0, 1, 0, 1, 0]]\n"
     ]
    }
   ],
   "source": [
    "population = initializePopulation(10, 10)\n",
    "print(population)"
   ]
  },
  {
   "cell_type": "code",
   "execution_count": 24,
   "metadata": {},
   "outputs": [
    {
     "name": "stdout",
     "output_type": "stream",
     "text": [
      "Hello\n"
     ]
    }
   ],
   "source": [
    "print(\"Hello\")"
   ]
  },
  {
   "cell_type": "code",
   "execution_count": 56,
   "metadata": {},
   "outputs": [],
   "source": [
    "def rouletteWheelSelection(population: list[list], maxWeight: int):\n",
    "    total_fitness = 0\n",
    "    fitnesses = []\n",
    "\n",
    "    for i in population:\n",
    "        fitness = calculateFitness(i, maxWeight)\n",
    "        fitnesses.append(fitness)\n",
    "        total_fitness += fitness\n",
    "\n",
    "    prob_sum = 0\n",
    "    roulette = random.uniform(0, total_fitness)\n",
    "    for i in range(len(population)):\n",
    "        prob_sum += fitnesses[i]\n",
    "        if prob_sum > roulette:\n",
    "            return population[i]\n",
    "\n",
    "        "
   ]
  },
  {
   "cell_type": "code",
   "execution_count": 58,
   "metadata": {},
   "outputs": [
    {
     "name": "stdout",
     "output_type": "stream",
     "text": [
      "[1, 1, 1, 1, 1] 521.4\n",
      "[0, 1, 0, 1, 1] 851.42\n",
      "[1, 1, 0, 1, 0] 833.72\n",
      "[1, 0, 0, 0, 1] 972.46\n",
      "[1, 0, 1, 0, 1] 790.06\n",
      "[1, 0, 0, 0, 0] 1102.38\n",
      "[0, 0, 0, 0, 1] 1120.08\n",
      "[1, 1, 1, 1, 1] 521.4\n",
      "[0, 0, 1, 0, 1] 937.68\n",
      "[1, 0, 1, 1, 1] 682.06\n",
      "\n"
     ]
    },
    {
     "data": {
      "text/plain": [
       "[0, 1, 0, 1, 1]"
      ]
     },
     "execution_count": 58,
     "metadata": {},
     "output_type": "execute_result"
    }
   ],
   "source": [
    "population = initializePopulation(10, 5)\n",
    "for i in range(len((population))):\n",
    "    print(population[i], calculateFitness(population[i], 2500))\n",
    "\n",
    "print()\n",
    "rouletteWheelSelection(population, 2500)"
   ]
  }
 ],
 "metadata": {
  "kernelspec": {
   "display_name": "Python 3",
   "language": "python",
   "name": "python3"
  },
  "language_info": {
   "codemirror_mode": {
    "name": "ipython",
    "version": 3
   },
   "file_extension": ".py",
   "mimetype": "text/x-python",
   "name": "python",
   "nbconvert_exporter": "python",
   "pygments_lexer": "ipython3",
   "version": "3.10.7"
  }
 },
 "nbformat": 4,
 "nbformat_minor": 2
}
