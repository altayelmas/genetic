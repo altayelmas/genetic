{
 "cells": [
  {
   "cell_type": "code",
   "execution_count": 1,
   "metadata": {},
   "outputs": [
    {
     "data": {
      "text/html": [
       "<div>\n",
       "<style scoped>\n",
       "    .dataframe tbody tr th:only-of-type {\n",
       "        vertical-align: middle;\n",
       "    }\n",
       "\n",
       "    .dataframe tbody tr th {\n",
       "        vertical-align: top;\n",
       "    }\n",
       "\n",
       "    .dataframe thead th {\n",
       "        text-align: right;\n",
       "    }\n",
       "</style>\n",
       "<table border=\"1\" class=\"dataframe\">\n",
       "  <thead>\n",
       "    <tr style=\"text-align: right;\">\n",
       "      <th></th>\n",
       "      <th>Name</th>\n",
       "      <th>Calories</th>\n",
       "      <th>Protein (g)</th>\n",
       "    </tr>\n",
       "  </thead>\n",
       "  <tbody>\n",
       "    <tr>\n",
       "      <th>0</th>\n",
       "      <td>Pillsbury Golden Layer Buttermilk Biscuits Art...</td>\n",
       "      <td>307.0</td>\n",
       "      <td>5.88</td>\n",
       "    </tr>\n",
       "    <tr>\n",
       "      <th>1</th>\n",
       "      <td>Pillsbury Cinnamon Rolls With Icing Refrigerat...</td>\n",
       "      <td>330.0</td>\n",
       "      <td>4.34</td>\n",
       "    </tr>\n",
       "    <tr>\n",
       "      <th>2</th>\n",
       "      <td>Kraft Foods Shake N Bake Original Recipe Coati...</td>\n",
       "      <td>377.0</td>\n",
       "      <td>6.10</td>\n",
       "    </tr>\n",
       "    <tr>\n",
       "      <th>3</th>\n",
       "      <td>George Weston Bakeries Thomas English Muffins</td>\n",
       "      <td>232.0</td>\n",
       "      <td>8.00</td>\n",
       "    </tr>\n",
       "    <tr>\n",
       "      <th>4</th>\n",
       "      <td>Waffles Buttermilk Frozen Ready-To-Heat</td>\n",
       "      <td>273.0</td>\n",
       "      <td>6.58</td>\n",
       "    </tr>\n",
       "  </tbody>\n",
       "</table>\n",
       "</div>"
      ],
      "text/plain": [
       "                                                Name  Calories  Protein (g)\n",
       "0  Pillsbury Golden Layer Buttermilk Biscuits Art...     307.0         5.88\n",
       "1  Pillsbury Cinnamon Rolls With Icing Refrigerat...     330.0         4.34\n",
       "2  Kraft Foods Shake N Bake Original Recipe Coati...     377.0         6.10\n",
       "3      George Weston Bakeries Thomas English Muffins     232.0         8.00\n",
       "4            Waffles Buttermilk Frozen Ready-To-Heat     273.0         6.58"
      ]
     },
     "execution_count": 1,
     "metadata": {},
     "output_type": "execute_result"
    }
   ],
   "source": [
    "import pandas as pd\n",
    "\n",
    "# Read data\n",
    "df = pd.read_excel(\"MyFoodData.xlsx\")\n",
    "\n",
    "# Drops unrelevant columns\n",
    "df = df.filter(items = [\"Name\", \"Calories\", \"Protein (g)\"])\n",
    "df.head()"
   ]
  },
  {
   "cell_type": "code",
   "execution_count": 2,
   "metadata": {},
   "outputs": [],
   "source": [
    "def calculateFitness(chromosome: list, maxWeight: int, negative: bool):\n",
    "    totalValue = 0\n",
    "    totalWeight = 0\n",
    "\n",
    "    for i in range(len(chromosome)):\n",
    "        if chromosome[i]:\n",
    "            value = df.iloc[i]['Protein (g)']\n",
    "            totalValue += value\n",
    "            \n",
    "            weight = df.iloc[i]['Calories']\n",
    "            totalWeight += weight\n",
    "    \n",
    "    penalty = 0.5\n",
    "    # Fitness = Total Proteins - (Total Calories - Max Calorie Given as Input) * Penalty Value\n",
    "    fitness = totalValue - (totalWeight - maxWeight) * penalty\n",
    "\n",
    "    if not negative:\n",
    "        return max(0, fitness)\n",
    "    else:\n",
    "        return fitness"
   ]
  },
  {
   "cell_type": "code",
   "execution_count": 4,
   "metadata": {},
   "outputs": [],
   "source": [
    "import random \n",
    "\n",
    "def initializePopulation(populationSize: int, chromosomeSize: int):\n",
    "    population = []\n",
    "\n",
    "    # Randomly generate populationSize amount of chromosomes with chromosomeSize size\n",
    "    for i in range(populationSize):\n",
    "        member = [random.randint(0, 1) for i in range(chromosomeSize)]\n",
    "        population.append(member)\n",
    "       \n",
    "    return population"
   ]
  },
  {
   "cell_type": "code",
   "execution_count": 5,
   "metadata": {},
   "outputs": [],
   "source": [
    "def rouletteWheelSelection(population: list[list], maxWeight: int):\n",
    "    total_fitness = 0\n",
    "    fitnesses = []\n",
    "\n",
    "    # Add all fitnesses\n",
    "    for i in population:\n",
    "        # Negative fitness is not allowed\n",
    "        fitness = calculateFitness(i, maxWeight, False)\n",
    "        fitnesses.append(fitness)\n",
    "        total_fitness += fitness\n",
    "\n",
    "    # An individual in the population have fitness / (sum of all fitnesses) chance to be selected in the Roulette Wheel Selection\n",
    "    prob_sum = 0\n",
    "    # Random float as roulette\n",
    "    roulette = random.uniform(0, total_fitness)\n",
    "    for i in range(len(population)):\n",
    "        # If the prob_sum + fitness of the individual exceedes the roulette value, the roulette is in that probability area, so the individual is selected\n",
    "        # Example:\n",
    "        # If we have 5 individuals with fitness values 5, 10, 15, 6, 3 and roulette as 21, the individual with fitness value 15 should be selected.\n",
    "        # In the first iteration of the loop prob_sum would be 5, in the second iteration 15 and in the third iteration it would be 30, exceeding the roulette value\n",
    "        # Third individual from the population would be selected according to this algorithm\n",
    "        prob_sum += fitnesses[i]\n",
    "        if prob_sum > roulette:\n",
    "            return population[i]\n",
    "\n",
    "        "
   ]
  },
  {
   "cell_type": "code",
   "execution_count": 6,
   "metadata": {},
   "outputs": [
    {
     "name": "stdout",
     "output_type": "stream",
     "text": [
      "[1, 1, 0, 0, 0] 941.72\n",
      "[1, 0, 1, 1, 1] 682.06\n",
      "[1, 1, 0, 0, 1] 811.8\n",
      "[0, 1, 0, 0, 0] 1089.34\n",
      "[0, 0, 1, 0, 0] 1067.6\n",
      "[0, 0, 1, 1, 0] 959.6\n",
      "[0, 1, 0, 1, 1] 851.42\n",
      "[1, 1, 1, 1, 1] 521.4\n",
      "[0, 0, 0, 0, 1] 1120.08\n",
      "[0, 1, 0, 0, 0] 1089.34\n",
      "\n",
      "[0, 1, 0, 1, 1]\n"
     ]
    }
   ],
   "source": [
    "population = initializePopulation(10, 5)\n",
    "for i in range(len((population))):\n",
    "    print(population[i], calculateFitness(population[i], 2500, False))\n",
    "\n",
    "print()\n",
    "selected = rouletteWheelSelection(population, 2500)\n",
    "print(selected)"
   ]
  },
  {
   "cell_type": "code",
   "execution_count": 8,
   "metadata": {},
   "outputs": [],
   "source": [
    "import random\n",
    "\n",
    "def singlePointCrossover(firstParent: list, secondParent: list):\n",
    "\n",
    "   # Selects a random crossover point\n",
    "   crossOverPoint = random.randint(1, len(firstParent) - 1)\n",
    "\n",
    "   # Selects the crossover parts from parents (From random point to end of the chromosome)\n",
    "   crossOverPart1 = firstParent[crossOverPoint: len(firstParent)]\n",
    "   crossOverPart2 = secondParent[crossOverPoint: len(secondParent)]\n",
    "\n",
    "   firstOffspring = firstParent\n",
    "   secondOffspring = secondParent\n",
    "\n",
    "   # Swaps the crossover parts between parents\n",
    "   firstOffspring[crossOverPoint: len(firstParent)] = crossOverPart2\n",
    "   secondOffspring[crossOverPoint: len(secondParent)] = crossOverPart1\n",
    "\n",
    "   return [firstOffspring, secondOffspring]"
   ]
  },
  {
   "cell_type": "code",
   "execution_count": 9,
   "metadata": {},
   "outputs": [
    {
     "name": "stdout",
     "output_type": "stream",
     "text": [
      "[[0, 0, 1, 1, 0, 1], [1, 1, 0, 0, 0, 1]]\n"
     ]
    }
   ],
   "source": [
    "firstParent = [0, 0 , 1, 1, 0, 1]\n",
    "secondParent = [1, 1, 0, 0, 0, 1]\n",
    "\n",
    "offsprings = singlePointCrossover(firstParent, secondParent)\n",
    "print(offsprings)"
   ]
  },
  {
   "cell_type": "code",
   "execution_count": 10,
   "metadata": {},
   "outputs": [],
   "source": [
    "def multiplePointCrossover(firstParent: list, secondParent: list):\n",
    "    # Selects two random crossover points\n",
    "    firstCrossOverPoint = random.randint(1, len(firstParent) - 1)\n",
    "    secondCrossOverPoint = random.randint(1, len(secondParent) - 1)\n",
    "\n",
    "    # Change the crossover point if the points are same\n",
    "    while (firstCrossOverPoint == secondCrossOverPoint):\n",
    "        secondCrossOverPoint = random.randint(1, len(firstParent) - 1)\n",
    "    \n",
    "    # If the first crossover point is at the right of the second crossover point swap the points\n",
    "    if (firstCrossOverPoint > secondCrossOverPoint):\n",
    "        firstCrossOverPoint, secondCrossOverPoint = secondCrossOverPoint, firstCrossOverPoint\n",
    "    \n",
    "    # Select the crossover parts from point1 to point2\n",
    "    crossOverPart1 = firstParent[firstCrossOverPoint: secondCrossOverPoint + 1]\n",
    "    crossOverPart2 = secondParent[firstCrossOverPoint: secondCrossOverPoint + 1]\n",
    "\n",
    "    firstOffspring = firstParent\n",
    "    secondOffspring = secondParent\n",
    "\n",
    "    # Swap the crossover parts between parents\n",
    "    firstOffspring[firstCrossOverPoint: secondCrossOverPoint + 1] = crossOverPart2\n",
    "    secondOffspring[firstCrossOverPoint: secondCrossOverPoint + 1] = crossOverPart1\n",
    "\n",
    "    return [firstOffspring, secondOffspring]\n",
    "\n",
    "    \n"
   ]
  },
  {
   "cell_type": "code",
   "execution_count": 11,
   "metadata": {},
   "outputs": [
    {
     "name": "stdout",
     "output_type": "stream",
     "text": [
      "[[0, 0, 1, 0, 0, 1], [1, 1, 0, 1, 0, 1]]\n"
     ]
    }
   ],
   "source": [
    "firstParent = [0, 0 , 1, 1, 0, 1]\n",
    "secondParent = [1, 1, 0, 0, 0, 1]\n",
    "\n",
    "offsprings = multiplePointCrossover(firstParent, secondParent)\n",
    "print(offsprings)"
   ]
  },
  {
   "cell_type": "code",
   "execution_count": 12,
   "metadata": {},
   "outputs": [],
   "source": [
    "def uniformCrossover(firstParent: list, secondParent: list, maxWeight: int):\n",
    "    firstFitness = calculateFitness(firstParent, maxWeight, False)\n",
    "    secondFitness = calculateFitness(secondParent, maxWeight, False)\n",
    "\n",
    "    # Probability in the uniform crossover is fp_1 / (fp_1 + fp_2), where fp_1 is the fitness of the first parent and fp_2 is the fitness of the second parent\n",
    "    probability = firstFitness / (firstFitness + secondFitness)\n",
    "\n",
    "    firstOffspring = []\n",
    "    secondOffspring = []\n",
    "    i = 0\n",
    "\n",
    "    while (len(firstOffspring) != len(firstParent)):\n",
    "        randomProb = random.random()\n",
    "        # First chromosome have the chance fp_1 / (fp_1 + fp_2) to the get the gene from first parent.\n",
    "        # If the probability is higher than the random value, first offspring gets the gene from first parent\n",
    "        # This repeats for all of the genes (length of the chromosome)\n",
    "        if (randomProb < probability):\n",
    "            firstOffspring.append(firstParent[i])\n",
    "            secondOffspring.append(secondParent[i])\n",
    "        else:\n",
    "            firstOffspring.append(secondParent[i])\n",
    "            secondOffspring.append(firstParent[i])\n",
    "        i += 1\n",
    "\n",
    "    return [firstOffspring, secondOffspring]\n",
    "\n"
   ]
  },
  {
   "cell_type": "code",
   "execution_count": 13,
   "metadata": {},
   "outputs": [
    {
     "name": "stdout",
     "output_type": "stream",
     "text": [
      "[[0, 1, 1, 1, 0, 1], [1, 0, 0, 0, 0, 1]]\n"
     ]
    }
   ],
   "source": [
    "firstParent = [0, 0 , 1, 1, 0, 1]\n",
    "secondParent = [1, 1, 0, 0, 0, 1]\n",
    "\n",
    "offsprings = uniformCrossover(firstParent, secondParent, 1000)\n",
    "print(offsprings)"
   ]
  },
  {
   "cell_type": "code",
   "execution_count": 15,
   "metadata": {},
   "outputs": [],
   "source": [
    "def mutation(chromosome: list, rate: int):\n",
    "    mutationsRate = 1 / rate\n",
    "    for i in range(len(chromosome)):\n",
    "        if random.random() <= mutationsRate:\n",
    "            chromosome[i] = 1 - chromosome[i]\n",
    "    return chromosome"
   ]
  },
  {
   "cell_type": "code",
   "execution_count": 49,
   "metadata": {},
   "outputs": [
    {
     "name": "stdout",
     "output_type": "stream",
     "text": [
      "[0, 0, 1, 1, 1, 0, 1]\n"
     ]
    }
   ],
   "source": [
    "chromosome = [0, 0, 1, 1, 1, 0, 1]\n",
    "print(mutation(chromosome, 10))"
   ]
  }
 ],
 "metadata": {
  "kernelspec": {
   "display_name": "Python 3",
   "language": "python",
   "name": "python3"
  },
  "language_info": {
   "codemirror_mode": {
    "name": "ipython",
    "version": 3
   },
   "file_extension": ".py",
   "mimetype": "text/x-python",
   "name": "python",
   "nbconvert_exporter": "python",
   "pygments_lexer": "ipython3",
   "version": "3.10.7"
  }
 },
 "nbformat": 4,
 "nbformat_minor": 2
}
