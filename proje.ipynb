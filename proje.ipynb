{
 "cells": [
  {
   "cell_type": "code",
   "execution_count": 2,
   "metadata": {},
   "outputs": [
    {
     "data": {
      "text/html": [
       "<div>\n",
       "<style scoped>\n",
       "    .dataframe tbody tr th:only-of-type {\n",
       "        vertical-align: middle;\n",
       "    }\n",
       "\n",
       "    .dataframe tbody tr th {\n",
       "        vertical-align: top;\n",
       "    }\n",
       "\n",
       "    .dataframe thead th {\n",
       "        text-align: right;\n",
       "    }\n",
       "</style>\n",
       "<table border=\"1\" class=\"dataframe\">\n",
       "  <thead>\n",
       "    <tr style=\"text-align: right;\">\n",
       "      <th></th>\n",
       "      <th>Name</th>\n",
       "      <th>Calories</th>\n",
       "      <th>Protein (g)</th>\n",
       "    </tr>\n",
       "  </thead>\n",
       "  <tbody>\n",
       "    <tr>\n",
       "      <th>0</th>\n",
       "      <td>Pillsbury Golden Layer Buttermilk Biscuits Art...</td>\n",
       "      <td>307.0</td>\n",
       "      <td>5.88</td>\n",
       "    </tr>\n",
       "    <tr>\n",
       "      <th>1</th>\n",
       "      <td>Pillsbury Cinnamon Rolls With Icing Refrigerat...</td>\n",
       "      <td>330.0</td>\n",
       "      <td>4.34</td>\n",
       "    </tr>\n",
       "    <tr>\n",
       "      <th>2</th>\n",
       "      <td>Kraft Foods Shake N Bake Original Recipe Coati...</td>\n",
       "      <td>377.0</td>\n",
       "      <td>6.10</td>\n",
       "    </tr>\n",
       "    <tr>\n",
       "      <th>3</th>\n",
       "      <td>George Weston Bakeries Thomas English Muffins</td>\n",
       "      <td>232.0</td>\n",
       "      <td>8.00</td>\n",
       "    </tr>\n",
       "    <tr>\n",
       "      <th>4</th>\n",
       "      <td>Waffles Buttermilk Frozen Ready-To-Heat</td>\n",
       "      <td>273.0</td>\n",
       "      <td>6.58</td>\n",
       "    </tr>\n",
       "  </tbody>\n",
       "</table>\n",
       "</div>"
      ],
      "text/plain": [
       "                                                Name  Calories  Protein (g)\n",
       "0  Pillsbury Golden Layer Buttermilk Biscuits Art...     307.0         5.88\n",
       "1  Pillsbury Cinnamon Rolls With Icing Refrigerat...     330.0         4.34\n",
       "2  Kraft Foods Shake N Bake Original Recipe Coati...     377.0         6.10\n",
       "3      George Weston Bakeries Thomas English Muffins     232.0         8.00\n",
       "4            Waffles Buttermilk Frozen Ready-To-Heat     273.0         6.58"
      ]
     },
     "execution_count": 2,
     "metadata": {},
     "output_type": "execute_result"
    }
   ],
   "source": [
    "import pandas as pd\n",
    "\n",
    "# Read data\n",
    "df = pd.read_excel(\"MyFoodData.xlsx\")\n",
    "\n",
    "# Drops unrelevant columns\n",
    "df = df.filter(items = [\"Name\", \"Calories\", \"Protein (g)\"])\n",
    "df.head()"
   ]
  },
  {
   "cell_type": "code",
   "execution_count": 146,
   "metadata": {},
   "outputs": [],
   "source": [
    "def calculateFitness(chromosome: list, maxWeight: int, negative: bool):\n",
    "    totalValue = 0\n",
    "    totalWeight = 0\n",
    "\n",
    "    for i in range(len(chromosome)):\n",
    "        if chromosome[i]:\n",
    "            value = df.iloc[i]['Protein (g)']\n",
    "            totalValue += value\n",
    "            \n",
    "            weight = df.iloc[i]['Calories']\n",
    "            totalWeight += weight\n",
    "    \n",
    "    penalty = 0.1\n",
    "    proteinWeight = 5\n",
    "    # Fitness = Total Proteins - (Total Calories - Max Calorie Given as Input) * Penalty Value\n",
    "    fitness = proteinWeight * totalValue - (totalWeight - maxWeight) * penalty\n",
    "\n",
    "    if not negative:\n",
    "        return max(0, fitness)\n",
    "    else:\n",
    "        return fitness"
   ]
  },
  {
   "cell_type": "code",
   "execution_count": 4,
   "metadata": {},
   "outputs": [],
   "source": [
    "import random \n",
    "\n",
    "def initializePopulation(populationSize: int, chromosomeSize: int):\n",
    "    population = []\n",
    "\n",
    "    # Randomly generate populationSize amount of chromosomes with chromosomeSize size\n",
    "    for i in range(populationSize):\n",
    "        member = [random.randint(0, 1) for i in range(chromosomeSize)]\n",
    "        population.append(member)\n",
    "       \n",
    "    return population"
   ]
  },
  {
   "cell_type": "code",
   "execution_count": 157,
   "metadata": {},
   "outputs": [
    {
     "name": "stdout",
     "output_type": "stream",
     "text": [
      "[0, 0, 0, 1, 0], Fitness 216.8\n",
      "[1, 0, 1, 1, 1], Fitness 213.90000000000003\n",
      "[0, 0, 0, 0, 0], Fitness 200.0\n",
      "[1, 0, 0, 0, 1], Fitness 204.3\n",
      "[1, 0, 1, 0, 1], Fitness 197.10000000000002\n",
      "\n",
      "[0, 0, 0, 1, 0], Fitness 216.8\n",
      "[1, 0, 1, 1, 1], Fitness 213.90000000000003\n",
      "[1, 0, 0, 0, 1], Fitness 204.3\n",
      "[0, 0, 0, 0, 0], Fitness 200.0\n",
      "[1, 0, 1, 0, 1], Fitness 197.10000000000002\n"
     ]
    }
   ],
   "source": [
    "def sortPopulation(population: list[list], maxWeight: int, negative: bool):\n",
    "    return sorted(population, key=lambda individual: calculateFitness(individual, maxWeight, negative), reverse=True)\n",
    "\n",
    "population = initializePopulation(5, 5)\n",
    "for i in population:\n",
    "    print(f\"{i}, Fitness {calculateFitness(i, 2000, False)}\")\n",
    "print()\n",
    "population = sortPopulation(population, 2000, False)\n",
    "for i in population:\n",
    "    print(f\"{i}, Fitness {calculateFitness(i, 2000, False)}\")"
   ]
  },
  {
   "cell_type": "code",
   "execution_count": 5,
   "metadata": {},
   "outputs": [],
   "source": [
    "def rouletteWheelSelection(population: list[list], maxWeight: int):\n",
    "    total_fitness = 0\n",
    "    fitnesses = []\n",
    "\n",
    "    # Add all fitnesses\n",
    "    for i in population:\n",
    "        # Negative fitness is not allowed\n",
    "        fitness = calculateFitness(i, maxWeight, False)\n",
    "        fitnesses.append(fitness)\n",
    "        total_fitness += fitness\n",
    "\n",
    "    # An individual in the population have fitness / (sum of all fitnesses) chance to be selected in the Roulette Wheel Selection\n",
    "    prob_sum = 0\n",
    "    # Random float as roulette\n",
    "    roulette = random.uniform(0, total_fitness)\n",
    "    for i in range(len(population)):\n",
    "        # If the prob_sum + fitness of the individual exceedes the roulette value, the roulette is in that probability area, so the individual is selected\n",
    "        # Example:\n",
    "        # If we have 5 individuals with fitness values 5, 10, 15, 6, 3 and roulette as 21, the individual with fitness value 15 should be selected.\n",
    "        # In the first iteration of the loop prob_sum would be 5, in the second iteration 15 and in the third iteration it would be 30, exceeding the roulette value\n",
    "        # Third individual from the population would be selected according to this algorithm\n",
    "        prob_sum += fitnesses[i]\n",
    "        if prob_sum > roulette:\n",
    "            return population[i]\n",
    "\n",
    "        "
   ]
  },
  {
   "cell_type": "code",
   "execution_count": 127,
   "metadata": {},
   "outputs": [],
   "source": [
    "def tournamentSelection(population: list[list], tournamentSize: int, maxWeight: int):\n",
    "    # tournamentSize amount of individuals are selected for the tournament\n",
    "    randomIndividuals = random.sample(range(0, len(population)), tournamentSize)\n",
    "    bestFitness = -1\n",
    "    bestIndividual = []\n",
    "    #print(randomIndividuals)\n",
    "    \n",
    "    for i in randomIndividuals:\n",
    "        # Individual with best fitness wins the tournament\n",
    "        # This individual is selected\n",
    "        fitness = calculateFitness(population[i], maxWeight, False)\n",
    "        #print(f\"Individual {i}, fitness {fitness}\")\n",
    "        if fitness > bestFitness:\n",
    "            bestFitness = fitness\n",
    "            bestIndividual = i\n",
    "    return population[bestIndividual]\n"
   ]
  },
  {
   "cell_type": "code",
   "execution_count": 119,
   "metadata": {},
   "outputs": [
    {
     "name": "stdout",
     "output_type": "stream",
     "text": [
      "[1, 0, 5, 7]\n",
      "Individual 1, fitness 107.80999999999999\n",
      "Individual 0, fitness 73.57\n",
      "Individual 5, fitness 81.08\n",
      "Individual 7, fitness 78.06\n",
      "[0, 1, 1, 1, 0]\n"
     ]
    }
   ],
   "source": [
    "population = initializePopulation(10, 5)\n",
    "\n",
    "bestIndividual = tournamentSelection(population, 4, 2500)\n",
    "print(bestIndividual)"
   ]
  },
  {
   "cell_type": "code",
   "execution_count": 6,
   "metadata": {},
   "outputs": [
    {
     "name": "stdout",
     "output_type": "stream",
     "text": [
      "[1, 0, 1, 1, 1] 682.06\n",
      "[0, 1, 0, 1, 0] 981.34\n",
      "[0, 0, 0, 1, 0] 1142.0\n",
      "[1, 1, 1, 1, 1] 521.4\n",
      "[0, 1, 1, 1, 1] 669.02\n",
      "[0, 1, 1, 0, 1] 777.02\n",
      "[0, 0, 1, 0, 0] 1067.6\n",
      "[1, 1, 1, 1, 1] 521.4\n",
      "[0, 1, 1, 0, 1] 777.02\n",
      "[1, 1, 1, 0, 0] 759.32\n",
      "\n",
      "[0, 0, 0, 1, 0]\n"
     ]
    }
   ],
   "source": [
    "population = initializePopulation(10, 5)\n",
    "for i in range(len((population))):\n",
    "    print(population[i], calculateFitness(population[i], 2500, False))\n",
    "\n",
    "print()\n",
    "selected = rouletteWheelSelection(population, 2500)\n",
    "print(selected)"
   ]
  },
  {
   "cell_type": "code",
   "execution_count": 7,
   "metadata": {},
   "outputs": [],
   "source": [
    "import random\n",
    "\n",
    "def singlePointCrossover(firstParent: list, secondParent: list):\n",
    "\n",
    "   # Selects a random crossover point\n",
    "   crossOverPoint = random.randint(1, len(firstParent) - 1)\n",
    "\n",
    "   # Selects the crossover parts from parents (From random point to end of the chromosome)\n",
    "   crossOverPart1 = firstParent[crossOverPoint: len(firstParent)]\n",
    "   crossOverPart2 = secondParent[crossOverPoint: len(secondParent)]\n",
    "\n",
    "   firstOffspring = firstParent\n",
    "   secondOffspring = secondParent\n",
    "\n",
    "   # Swaps the crossover parts between parents\n",
    "   firstOffspring[crossOverPoint: len(firstParent)] = crossOverPart2\n",
    "   secondOffspring[crossOverPoint: len(secondParent)] = crossOverPart1\n",
    "\n",
    "   return [firstOffspring, secondOffspring]"
   ]
  },
  {
   "cell_type": "code",
   "execution_count": 8,
   "metadata": {},
   "outputs": [
    {
     "name": "stdout",
     "output_type": "stream",
     "text": [
      "[[0, 0, 1, 1, 0, 1], [1, 1, 0, 0, 0, 1]]\n"
     ]
    }
   ],
   "source": [
    "firstParent = [0, 0 , 1, 1, 0, 1]\n",
    "secondParent = [1, 1, 0, 0, 0, 1]\n",
    "\n",
    "offsprings = singlePointCrossover(firstParent, secondParent)\n",
    "print(offsprings)"
   ]
  },
  {
   "cell_type": "code",
   "execution_count": 9,
   "metadata": {},
   "outputs": [],
   "source": [
    "def multiplePointCrossover(firstParent: list, secondParent: list):\n",
    "    # Selects two random crossover points\n",
    "    firstCrossOverPoint = random.randint(1, len(firstParent) - 1)\n",
    "    secondCrossOverPoint = random.randint(1, len(secondParent) - 1)\n",
    "\n",
    "    # Change the crossover point if the points are same\n",
    "    while (firstCrossOverPoint == secondCrossOverPoint):\n",
    "        secondCrossOverPoint = random.randint(1, len(firstParent) - 1)\n",
    "    \n",
    "    # If the first crossover point is at the right of the second crossover point swap the points\n",
    "    if (firstCrossOverPoint > secondCrossOverPoint):\n",
    "        firstCrossOverPoint, secondCrossOverPoint = secondCrossOverPoint, firstCrossOverPoint\n",
    "    \n",
    "    # Select the crossover parts from point1 to point2\n",
    "    crossOverPart1 = firstParent[firstCrossOverPoint: secondCrossOverPoint + 1]\n",
    "    crossOverPart2 = secondParent[firstCrossOverPoint: secondCrossOverPoint + 1]\n",
    "\n",
    "    firstOffspring = firstParent\n",
    "    secondOffspring = secondParent\n",
    "\n",
    "    # Swap the crossover parts between parents\n",
    "    firstOffspring[firstCrossOverPoint: secondCrossOverPoint + 1] = crossOverPart2\n",
    "    secondOffspring[firstCrossOverPoint: secondCrossOverPoint + 1] = crossOverPart1\n",
    "\n",
    "    return [firstOffspring, secondOffspring]\n",
    "\n",
    "    \n"
   ]
  },
  {
   "cell_type": "code",
   "execution_count": 10,
   "metadata": {},
   "outputs": [
    {
     "name": "stdout",
     "output_type": "stream",
     "text": [
      "[[0, 1, 0, 1, 0, 1], [1, 0, 1, 0, 0, 1]]\n"
     ]
    }
   ],
   "source": [
    "firstParent = [0, 0 , 1, 1, 0, 1]\n",
    "secondParent = [1, 1, 0, 0, 0, 1]\n",
    "\n",
    "offsprings = multiplePointCrossover(firstParent, secondParent)\n",
    "print(offsprings)"
   ]
  },
  {
   "cell_type": "code",
   "execution_count": 11,
   "metadata": {},
   "outputs": [],
   "source": [
    "def uniformCrossover(firstParent: list, secondParent: list, maxWeight: int):\n",
    "    firstFitness = calculateFitness(firstParent, maxWeight, False)\n",
    "    secondFitness = calculateFitness(secondParent, maxWeight, False)\n",
    "\n",
    "    # Probability in the uniform crossover is fp_1 / (fp_1 + fp_2), where fp_1 is the fitness of the first parent and fp_2 is the fitness of the second parent\n",
    "    probability = firstFitness / (firstFitness + secondFitness)\n",
    "\n",
    "    firstOffspring = []\n",
    "    secondOffspring = []\n",
    "    i = 0\n",
    "\n",
    "    while (len(firstOffspring) != len(firstParent)):\n",
    "        randomProb = random.random()\n",
    "        # First chromosome have the chance fp_1 / (fp_1 + fp_2) to the get the gene from first parent.\n",
    "        # If the probability is higher than the random value, first offspring gets the gene from first parent\n",
    "        # This repeats for all of the genes (length of the chromosome)\n",
    "        if (randomProb < probability):\n",
    "            firstOffspring.append(firstParent[i])\n",
    "            secondOffspring.append(secondParent[i])\n",
    "        else:\n",
    "            firstOffspring.append(secondParent[i])\n",
    "            secondOffspring.append(firstParent[i])\n",
    "        i += 1\n",
    "\n",
    "    return [firstOffspring, secondOffspring]\n",
    "\n"
   ]
  },
  {
   "cell_type": "code",
   "execution_count": 12,
   "metadata": {},
   "outputs": [
    {
     "name": "stdout",
     "output_type": "stream",
     "text": [
      "[[1, 1, 1, 1, 0, 1], [0, 0, 0, 0, 0, 1]]\n"
     ]
    }
   ],
   "source": [
    "firstParent = [0, 0 , 1, 1, 0, 1]\n",
    "secondParent = [1, 1, 0, 0, 0, 1]\n",
    "\n",
    "offsprings = uniformCrossover(firstParent, secondParent, 1000)\n",
    "print(offsprings)"
   ]
  },
  {
   "cell_type": "code",
   "execution_count": null,
   "metadata": {},
   "outputs": [],
   "source": [
    "def mutation(chromosome: list, rate: int):\n",
    "    mutationsRate = 1 / rate\n",
    "    for i in range(len(chromosome)):\n",
    "        # random.random() generates a float between 0 and 1\n",
    "        # If this number is less than or equal to mutation rate there is a bit flip in that gene (mutation occurs)\n",
    "        if random.random() <= mutationsRate:\n",
    "            chromosome[i] = 1 - chromosome[i]\n",
    "    return chromosome"
   ]
  },
  {
   "cell_type": "code",
   "execution_count": 14,
   "metadata": {},
   "outputs": [
    {
     "name": "stdout",
     "output_type": "stream",
     "text": [
      "[0, 1, 1, 1, 1, 0, 0]\n"
     ]
    }
   ],
   "source": [
    "chromosome = [0, 0, 1, 1, 1, 0, 1]\n",
    "print(mutation(chromosome, 10))"
   ]
  },
  {
   "cell_type": "code",
   "execution_count": 171,
   "metadata": {},
   "outputs": [
    {
     "data": {
      "image/png": "[encoded data removed]",
      "text/plain": [
       "<Figure size 640x480 with 1 Axes>"
      ]
     },
     "metadata": {},
     "output_type": "display_data"
    }
   ],
   "source": [
    "import numpy as np\n",
    "import matplotlib.pyplot as plt\n",
    "\n",
    "population = initializePopulation(100, 100)\n",
    "\n",
    "def geneticAlgorithm(population: list[list], maxWeight: int, iterations: int, elitSize: int):\n",
    "    meanFitness = []\n",
    "    fitnessList = [calculateFitness(i, maxWeight, True) for i in population]\n",
    "    mean = np.mean(fitnessList)\n",
    "    meanFitness.append(mean)\n",
    "\n",
    "    for i in range(iterations):\n",
    "        sortedPopulation = sortPopulation(population, maxWeight, True)\n",
    "        new_population = sortedPopulation[:elitSize]\n",
    "        while len(new_population) != len(population):\n",
    "            \n",
    "            firstIndividual = tournamentSelection(population, 2, maxWeight)\n",
    "            secondIndividual = tournamentSelection(population, 2, maxWeight)\n",
    "\n",
    "            #firstIndividual = rouletteWheelSelection(population, maxWeight)\n",
    "            #secondIndividual = rouletteWheelSelection(population, maxWeight)\n",
    "            \n",
    "            #offsprings = singlePointCrossover(firstIndividual, secondIndividual)\n",
    "            offsprings = uniformCrossover(firstIndividual, secondIndividual, maxWeight)\n",
    "            offsprings[0] = mutation(offsprings[0], len(offsprings[0]))\n",
    "            offsprings[1] = mutation(offsprings[1], len(offsprings[1]))\n",
    "\n",
    "            new_population.extend(offsprings)\n",
    "\n",
    "        population = new_population\n",
    "\n",
    "        fitnessList = [calculateFitness(i, maxWeight, True) for i in population]\n",
    "        mean = np.mean(fitnessList)\n",
    "        meanFitness.append(mean)\n",
    "\n",
    "    x = np.arange(0, iterations + 1)\n",
    "    plt.plot(x, meanFitness)\n",
    "    plt.title(\"Mean Fitness over iterations\")\n",
    "    plt.xlabel(\"Iteration\")\n",
    "    plt.ylabel(\"Mean Fitness\")\n",
    "    return population\n",
    "\n",
    "new = geneticAlgorithm(population, 5000, 100, 2)\n"
   ]
  }
 ],
 "metadata": {
  "kernelspec": {
   "display_name": "Python 3",
   "language": "python",
   "name": "python3"
  },
  "language_info": {
   "codemirror_mode": {
    "name": "ipython",
    "version": 3
   },
   "file_extension": ".py",
   "mimetype": "text/x-python",
   "name": "python",
   "nbconvert_exporter": "python",
   "pygments_lexer": "ipython3",
   "version": "3.10.7"
  }
 },
 "nbformat": 4,
 "nbformat_minor": 2
}
